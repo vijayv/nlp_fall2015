{
 "cells": [
  {
   "cell_type": "markdown",
   "metadata": {},
   "source": [
    "# Categorize Documents"
   ]
  },
  {
   "cell_type": "code",
   "execution_count": 204,
   "metadata": {
    "collapsed": false
   },
   "outputs": [],
   "source": [
    "import numpy as np\n",
    "import pandas as pd\n",
    "import nltk\n",
    "import matplotlib.pyplot as plt\n",
    "%matplotlib inline\n",
    "import string\n",
    "\n",
    "from sklearn.naive_bayes import MultinomialNB\n",
    "from sklearn.svm import SVC\n",
    "from sklearn.ensemble import GradientBoostingClassifier\n",
    "from sklearn.grid_search import GridSearchCV\n",
    "from sklearn.feature_extraction.text import CountVectorizer\n",
    "from sklearn.metrics import accuracy_score\n",
    "from sklearn.cross_validation import train_test_split"
   ]
  },
  {
   "cell_type": "markdown",
   "metadata": {},
   "source": [
    "## Useful Links\n",
    "\n",
    "### Scikit-Learn\n",
    "[Scikit-Learn Documentation](http://scikit-learn.org/stable/user_guide.html)\n",
    "\n",
    "### NLTK\n",
    "[NLTK Book](http://www.nltk.org/book/)  \n",
    "[NLTK API DOCS](http://www.nltk.org/api/nltk.html)  \n",
    "[Module Index](http://www.nltk.org/py-modindex.html)"
   ]
  },
  {
   "cell_type": "markdown",
   "metadata": {},
   "source": [
    "## Exploratory Analysis"
   ]
  },
  {
   "cell_type": "code",
   "execution_count": 162,
   "metadata": {
    "collapsed": false,
    "scrolled": true
   },
   "outputs": [
    {
     "data": {
      "text/html": [
       "<div>\n",
       "<table border=\"1\" class=\"dataframe\">\n",
       "  <thead>\n",
       "    <tr style=\"text-align: right;\">\n",
       "      <th></th>\n",
       "      <th>Category</th>\n",
       "      <th>Text</th>\n",
       "    </tr>\n",
       "  </thead>\n",
       "  <tbody>\n",
       "    <tr>\n",
       "      <th>0</th>\n",
       "      <td>5</td>\n",
       "      <td>why are yawns contagious? when people yawn</td>\n",
       "    </tr>\n",
       "    <tr>\n",
       "      <th>1</th>\n",
       "      <td>6</td>\n",
       "      <td>what is trans fat? how to reduce that? i heard...</td>\n",
       "    </tr>\n",
       "    <tr>\n",
       "      <th>2</th>\n",
       "      <td>1</td>\n",
       "      <td>roth ira vs 401k? what is the difference betwe...</td>\n",
       "    </tr>\n",
       "    <tr>\n",
       "      <th>3</th>\n",
       "      <td>1</td>\n",
       "      <td>how many planes fedex has? i heard that it is ...</td>\n",
       "    </tr>\n",
       "    <tr>\n",
       "      <th>4</th>\n",
       "      <td>3</td>\n",
       "      <td>what was the first dvd you ever bought? what w...</td>\n",
       "    </tr>\n",
       "  </tbody>\n",
       "</table>\n",
       "</div>"
      ],
      "text/plain": [
       "   Category                                               Text\n",
       "0         5         why are yawns contagious? when people yawn\n",
       "1         6  what is trans fat? how to reduce that? i heard...\n",
       "2         1  roth ira vs 401k? what is the difference betwe...\n",
       "3         1  how many planes fedex has? i heard that it is ...\n",
       "4         3  what was the first dvd you ever bought? what w..."
      ]
     },
     "execution_count": 162,
     "metadata": {},
     "output_type": "execute_result"
    }
   ],
   "source": [
    "df = pd.read_csv(\"newtrain.csv\")\n",
    "df_train = pd.read_csv(\"training.csv\")\n",
    "df_dev = pd.read_csv(\"dev_testing.csv\")\n",
    "df_train.head()"
   ]
  },
  {
   "cell_type": "markdown",
   "metadata": {},
   "source": [
    "Looks like class labels are disproportionately represented.  \n",
    "*Possible actions*: different samples methods (stratified), make up more data, etc"
   ]
  },
  {
   "cell_type": "markdown",
   "metadata": {},
   "source": [
    "### Class Count"
   ]
  },
  {
   "cell_type": "code",
   "execution_count": 210,
   "metadata": {
    "collapsed": false,
    "scrolled": true
   },
   "outputs": [
    {
     "data": {
      "text/plain": [
       "<Container object of 7 artists>"
      ]
     },
     "execution_count": 210,
     "metadata": {},
     "output_type": "execute_result"
    },
    {
     "data": {
      "image/png": "[encoded data removed]",
      "text/plain": [
       "<matplotlib.figure.Figure at 0x10b7d21d0>"
      ]
     },
     "metadata": {},
     "output_type": "display_data"
    }
   ],
   "source": [
    "count_by_category = df.groupby(\"Category\").count()\n",
    "plt.bar(count_by_category.index, count_by_category[\"Text\"])"
   ]
  },
  {
   "cell_type": "markdown",
   "metadata": {},
   "source": [
    "### Text Length by Class"
   ]
  },
  {
   "cell_type": "code",
   "execution_count": 222,
   "metadata": {
    "collapsed": false
   },
   "outputs": [
    {
     "name": "stdout",
     "output_type": "stream",
     "text": [
      "          Text Length\n",
      "Category             \n",
      "1           74.023407\n",
      "2           97.407489\n",
      "3           79.928571\n",
      "4           94.527378\n",
      "5           80.471311\n",
      "6           85.396552\n",
      "7           71.447154\n"
     ]
    },
    {
     "data": {
      "text/plain": [
       "<Container object of 7 artists>"
      ]
     },
     "execution_count": 222,
     "metadata": {},
     "output_type": "execute_result"
    },
    {
     "data": {
      "image/png": "[encoded data removed]",
      "text/plain": [
       "<matplotlib.figure.Figure at 0x11196c828>"
      ]
     },
     "metadata": {},
     "output_type": "display_data"
    }
   ],
   "source": [
    "df[\"Text Length\"] = list(map(len, df[\"Text\"]))\n",
    "text_len_by_category = df.groupby(\"Category\").mean()\n",
    "print(text_len_by_category)\n",
    "plt.bar(text_len_by_category.index, text_len_by_category[\"Text Length\"])"
   ]
  },
  {
   "cell_type": "code",
   "execution_count": 230,
   "metadata": {
    "collapsed": false
   },
   "outputs": [
    {
     "name": "stdout",
     "output_type": "stream",
     "text": [
      "          Text Length  Avg Word Length\n",
      "Category                              \n",
      "1           74.023407         4.320244\n",
      "2           97.407489         4.487747\n",
      "3           79.928571         4.505012\n",
      "4           94.527378         4.033073\n",
      "5           80.471311         4.595287\n",
      "6           85.396552         4.349611\n",
      "7           71.447154         4.548233\n"
     ]
    },
    {
     "data": {
      "text/plain": [
       "<Container object of 7 artists>"
      ]
     },
     "execution_count": 230,
     "metadata": {},
     "output_type": "execute_result"
    },
    {
     "data": {
      "image/png": "[encoded data removed]",
      "text/plain": [
       "<matplotlib.figure.Figure at 0x10e7234e0>"
      ]
     },
     "metadata": {},
     "output_type": "display_data"
    }
   ],
   "source": [
    "df[\"Avg Word Length\"] = list(map(lambda x: np.mean(list(map(len, x.split()))), df[\"Text\"]))\n",
    "avg_word_len_by_class = df.groupby(\"Category\").mean()\n",
    "print(avg_word_len_by_class)\n",
    "plt.bar(avg_word_len_by_class.index, avg_word_len_by_class[\"Avg Word Length\"])"
   ]
  },
  {
   "cell_type": "markdown",
   "metadata": {},
   "source": [
    "## Feature Extraction"
   ]
  },
  {
   "cell_type": "markdown",
   "metadata": {},
   "source": [
    "### Helper Functions"
   ]
  },
  {
   "cell_type": "code",
   "execution_count": 164,
   "metadata": {
    "collapsed": true
   },
   "outputs": [],
   "source": [
    "# Figure out the best feature extraction to use: http://scikit-learn.org/stable/modules/feature_extraction.html\n",
    "\n",
    "def to_tokens(txt):\n",
    "    pattern = r'''(?x)    # set flag to allow verbose regexps\n",
    "        <\n",
    "        | :\n",
    "        | ([A-Z]\\.)+        # abbreviations, e.g. U.S.A.\n",
    "       | \\w+([-']\\w+)*        # words with optional internal hyphens\n",
    "       | \\$?\\d+(\\.\\d+)?%?  # currency and percentages, e.g. $12.40, 82%\n",
    "       | \\.\\.\\.            # ellipsis\n",
    "       | [.,;\"'?():-_`]+  # these are separate tokens\n",
    "     '''\n",
    "    return nltk.regexp_tokenize(txt, pattern)\n",
    "\n",
    "def remove_stopwords(wrds):\n",
    "    stop_words = nltk.corpus.stopwords.words('english')\n",
    "    return list(filter(lambda w: w.lower() not in stop_words, wrds))\n",
    "\n",
    "def remove_punctuation(wrds):\n",
    "    exclude = list(string.punctuation) + [\"--\",\"...\", \"`\"]\n",
    "    return list(filter(lambda w: w[0] not in exclude, wrds))\n",
    "\n",
    "def remove_digits(wrds):\n",
    "    exclude = list(string.digits)\n",
    "    return list(filter(lambda w: w[0] not in exclude, wrds))"
   ]
  },
  {
   "cell_type": "markdown",
   "metadata": {},
   "source": [
    "### Generate Features"
   ]
  },
  {
   "cell_type": "code",
   "execution_count": 242,
   "metadata": {
    "collapsed": false
   },
   "outputs": [],
   "source": [
    "from sklearn.feature_extraction.text import TfidfVectorizer\n",
    "vectorizer = TfidfVectorizer(min_df=4, stop_words=\"english\", ngram_range=(1,2), max_features=1000)\n",
    "df_features = vectorizer.fit_transform(df[\"Text\"]).toarray()\n",
    "# train_features = vectorizer.fit_transform(df_train[\"Text\"]).toarray()\n",
    "dev_features = vectorizer.transform(df_dev[\"Text\"]).toarray()"
   ]
  },
  {
   "cell_type": "markdown",
   "metadata": {},
   "source": [
    "## Models"
   ]
  },
  {
   "cell_type": "markdown",
   "metadata": {},
   "source": [
    "### Naive Bayes"
   ]
  },
  {
   "cell_type": "code",
   "execution_count": 201,
   "metadata": {
    "collapsed": false,
    "scrolled": true
   },
   "outputs": [
    {
     "data": {
      "text/plain": [
       "0.4857849196538937"
      ]
     },
     "execution_count": 201,
     "metadata": {},
     "output_type": "execute_result"
    }
   ],
   "source": [
    "nb = MultinomialNB()\n",
    "nb_model = nb.fit(train_features, df_train[\"Category\"])\n",
    "nb_predictions = nb_model.predict(dev_features)\n",
    "\n",
    "accuracy_score(df_dev[\"Category\"], nb_predictions)"
   ]
  },
  {
   "cell_type": "code",
   "execution_count": 209,
   "metadata": {
    "collapsed": false
   },
   "outputs": [
    {
     "name": "stdout",
     "output_type": "stream",
     "text": [
      "<bound method GridSearchCV.score of GridSearchCV(cv=None, error_score='raise',\n",
      "       estimator=MultinomialNB(alpha=1.0, class_prior=None, fit_prior=True),\n",
      "       fit_params={}, iid=True, loss_func=None, n_jobs=1,\n",
      "       param_grid={'fit_prior': [True, False], 'alpha': [0.0, 0.5, 1.0]},\n",
      "       pre_dispatch='2*n_jobs', refit=True, score_func=None, scoring=None,\n",
      "       verbose=0)>\n"
     ]
    }
   ],
   "source": [
    "parameters = {\"alpha\": [0.0, 0.5, 1.0], \"fit_prior\": [True, False]}\n",
    "clf = GridSearchCV(nb, parameters)\n",
    "clf.fit(train_features, df_train[\"Category\"])"
   ]
  },
  {
   "cell_type": "markdown",
   "metadata": {},
   "source": [
    "### SVM"
   ]
  },
  {
   "cell_type": "code",
   "execution_count": 198,
   "metadata": {
    "collapsed": false
   },
   "outputs": [
    {
     "data": {
      "text/plain": [
       "0.4264524103831891"
      ]
     },
     "execution_count": 198,
     "metadata": {},
     "output_type": "execute_result"
    }
   ],
   "source": [
    "svm = SVC(C=1000000.0, gamma=0.0, kernel='rbf')\n",
    "svm_model = svm.fit(train_features, df_train[\"Category\"])\n",
    "svm_predictions = svm_model.predict(dev_features)\n",
    "\n",
    "accuracy_score(df_dev[\"Category\"], svm_predictions)"
   ]
  },
  {
   "cell_type": "markdown",
   "metadata": {},
   "source": [
    "### Gradient Boosting"
   ]
  },
  {
   "cell_type": "code",
   "execution_count": 243,
   "metadata": {
    "collapsed": false
   },
   "outputs": [
    {
     "data": {
      "text/plain": [
       "0.72435105067985162"
      ]
     },
     "execution_count": 243,
     "metadata": {},
     "output_type": "execute_result"
    }
   ],
   "source": [
    "gb = GradientBoostingClassifier()\n",
    "gb_model = gb.fit(df_features, df[\"Category\"])\n",
    "gb_predictions = gb_model.predict(dev_features)\n",
    "\n",
    "accuracy_score(df_dev[\"Category\"], gb_predictions)"
   ]
  },
  {
   "cell_type": "markdown",
   "metadata": {},
   "source": [
    "## Evaluation"
   ]
  },
  {
   "cell_type": "markdown",
   "metadata": {},
   "source": [
    "### Confusion Matrix"
   ]
  },
  {
   "cell_type": "code",
   "execution_count": 238,
   "metadata": {
    "collapsed": false,
    "scrolled": false
   },
   "outputs": [
    {
     "name": "stdout",
     "output_type": "stream",
     "text": [
      "Predicted    1    2   3   4   5   6   7  All\n",
      "True                                        \n",
      "1          184   24   8  10   1   3   2  232\n",
      "2           61   73   2   0   0   0   2  138\n",
      "3           59    8  50   8   0   0   1  126\n",
      "4           49    0   2  60   0   0   2  113\n",
      "5           51    6   7   2   8   0   0   74\n",
      "6           40    1   0   6   0   9   2   58\n",
      "7           44    4   3   4   1   3   9   68\n",
      "All        488  116  72  90  10  15  18  809\n",
      "Predicted    1   2   3    4   5   6   7  All\n",
      "True                                        \n",
      "1          162  18   7   20  13   4   8  232\n",
      "2           55  64   6    1   2   1   9  138\n",
      "3           52   3  54   10   4   0   3  126\n",
      "4           37   0   1   68   1   3   3  113\n",
      "5           51   2   2    2  15   1   1   74\n",
      "6           33   2   0    7   1   9   6   58\n",
      "7           39   4   1    1   4   3  16   68\n",
      "All        429  93  71  109  40  21  46  809\n"
     ]
    }
   ],
   "source": [
    "y_true = pd.Series(df_dev[\"Category\"])\n",
    "y_pred = pd.Series(nb_predictions)\n",
    "\n",
    "print(pd.crosstab(y_true, y_pred, rownames=['True'], colnames=['Predicted'], margins=True))\n",
    "\n",
    "y_true = pd.Series(df_dev[\"Category\"])\n",
    "y_pred = pd.Series(gb_predictions)\n",
    "\n",
    "print(pd.crosstab(y_true, y_pred, rownames=['True'], colnames=['Predicted'], margins=True))"
   ]
  },
  {
   "cell_type": "code",
   "execution_count": 182,
   "metadata": {
    "collapsed": false,
    "scrolled": true
   },
   "outputs": [
    {
     "name": "stdout",
     "output_type": "stream",
     "text": [
      "Actual-Predicted-Text\n",
      "3-1-garfield\n",
      "5-1-what is the best way to learn history?\n",
      "3-5-who was famous for the line nanoo nanoo?\n",
      "7-1-can you please help me pass my psychology test? discuss the criteria for determining abnormality.\n",
      "2-3-what are the most popular blogging tools? what are the market shares of the top 10 blogging packages / asps?\n",
      "3-1-who was the first superman?\n",
      "2-1-what is adsense?\n",
      "5-1-what are the seven sisters schools? are they considered as good colleges?\n",
      "1-2-i can't find my answer to my security question so i can get my password? i am using my girlfriends email address to talk to you guys somebody that knows my information keeps changing my password and security answer and she has changed it again i can't access my account because i don't know my security answer please help my name is david_saxby@yahoo.com my birthdate is march 19 1976 i live in the united states and my zip code is 45648 please email me at natalie_tackett2003@yahoo.com with the answers thank you\n",
      "1-7-how is vegetable gas made? where?\n",
      "5-1-where can i get ideas for our science project?\n",
      "5-1-should the law in oklahoma be lifted on banning tattoos or should it stay? im writin a paper in english and i would like to know what others think!!\n",
      "1-3-what was your best year to be alive? i don't think i have made it to my greatest year yet!\n",
      "6-1-can cigarette smoke cause hives?\n",
      "7-1-according to news sites\n",
      "3-1-how many sith are there in one time?\n",
      "3-1-who likes wwe?\n",
      "2-1-how to install of operating system? procdures of installing application programs in steps.\n",
      "4-1-if the chap says he loves you but talks to other gitls online does he really love you? assuming you live far apart.\n",
      "5-3-how do i get pics of animals found in climatic regions of south america? (i need information on these topics)&#xa;the climatic regions are:&#xa;1) equatorial region&#xa;2) tropical grasslands/savanna type&#xa;3) tropical climate&#xa;4) tropical desert&#xa;5) the mediterranean region&#xa;6) the temperate grasslands/pampas&#xa;7) the temperate desert&#xa;&#xa;i have tried searching on animals found in climatic region of south america\n",
      "1-4-are asian men sexy without a shirt?\n",
      "4-1-do you enjoy reading erotic stories?\n",
      "2-1-what is the most imp. course of computer \n",
      "2-4-i want my email online all time when i sgin out?\n",
      "1-3-what is the jewish custom of putting rocks on a graveto show love and care for the deceased? when i visit the graves of my mom and dad\n",
      "1-7-what makes your mouth water?\n",
      "2-7-are engineering working on 4g for mobile after shipping 3g?\n",
      "2-1-how do i enable java to my browsing??\n",
      "1-4-my boyfriend told me that he was with his exgirlfriend does that mean he is cheating on me pla help me?\n",
      "2-7-what is a transistor laser?\n",
      "3-1-madhuri dixits birthdate?\n",
      "5-3-who wrote the iliad?\n",
      "4-1-how do i get christina rouse to notice me?\n",
      "1-3-how is it a ghost can walk thru walls\n",
      "1-2-getting your avatar into e-mail?\n",
      "5-1-is there a dictionary for slang words?\n",
      "1-2-i just found out my friend cuts herself. what can i do to help her? she is already going to a counceler and stuff\n",
      "2-1-how do i register a domain name?\n",
      "6-1-in the quest for dazzling teeth\n",
      "6-1-i am under heavy stress\n",
      "5-1-france is to europe as china is to ____ ?\n",
      "2-1-is any website here on net which can pay after earn online....or any way to earn online from internet?\n",
      "5-1-the subject of a sentence may be what part of speech?\n",
      "1-4-how can u make ur hair grow faster than ever!!!!!!!?\n",
      "3-1-who is the composer of the philippine national anthem?\n",
      "1-5-what do i need to prepare my household for an avian flu pandemic?\n",
      "1-2-how can i get an address to send songs i've written to carrie underwoods writers for possible consideration?\n",
      "3-1-who shot mr. burns? who shot mr. burns?\n",
      "7-1-what is density?\n",
      "3-1-what books would you like to see made into a movie(s) or tv mini series?\n",
      "1-4-how can i get old newspaper kilpenings from 1968 and the obituaries? i need an old newspaper from 9-2-1968 please help me if you know how to find them online\n",
      "4-1-france - normandy - normanville\n",
      "1-7-does the type of water have an effect on grass growth?\n",
      "1-5-nice apartment building near sbc park? any recommendations for a nice apartment building in sf generally in the sbc park area?\n",
      "4-5-i need a creative gift for my wife\n",
      "4-1-if guys peak sexually at 19\n",
      "7-1-what is a syndicalist?\n",
      "3-1-which sign is the best mate for a libra?\n",
      "5-3-which are the best k-12 public schools in the sf bay area? which are the best k-12 public schools in the sf bay area?\n",
      "3-1-is it true that denzel washington is getting a divorce?\n",
      "5-6-what does the term playing hooky mean?\n",
      "7-1-why do elements of oppisite charges attract? in chemistry element attract why\n",
      "1-3-how can i read minds? are we all psychic?\n",
      "2-1-what is a satellite notebook?\n",
      "6-5-what causes the irritation around the ileostomy? what to do?\n",
      "5-1-what is the concept of global warming?\n",
      "1-3-can you recommend a residential real estate appraisal firm around kansas?\n",
      "4-1-if you have a crush on somebody that's your friend and they are already taken do you tell them?\n",
      "4-3-what should i do if i love sum1 but they dont luv me bak?\n",
      "6-4-why do women live more than men?\n",
      "1-2-where can you donate an old encyclopedia set?\n",
      "3-1-did bill gates really pose for teen beat magazine?\n",
      "2-4-can nyone have documentation on online shopping ?\n",
      "1-7-what is your biggest problem now?\n",
      "6-1-what are some treatment options for a herniated disc in the lower spine?\n",
      "5-1-which are the most rated college in california? and what each one’s specialty?  meaning – what area each one is famous in being the best among the california’s college\n",
      "7-4-does having light coloured eyes make you ahve better night vision?\n",
      "7-1-have humans been cloned yet without breaking the law?\n",
      "1-3-do you think humans are better adapted to extreme hot or extreme cold? because it is damn cold out today and i am wishing it was damn hot instead\n",
      "6-1-what are the risks of alternative medicine?\n",
      "7-5-what is avogadro's number?\n",
      "2-1-why can't emailers 1) spell\n",
      "5-1-can someone direct to me to a good site about volcanoes? i need to know the top 10 deadliest volcano in the world.\n",
      "5-1-what is the history of seeing eye dogs? what is the history of seeing eye dogs?\n",
      "4-6-why are women such control freaks?\n",
      "3-1-where is the best karaoke club (ktv) in the south bay? looking for ktv with private rooms\n",
      "3-2-can someone give me background on william shattner? he is my favorite actor.\n",
      "2-1-how do i get an ip hider for my computer to help stop hackers?\n",
      "2-1-are there any good books on using apis? particulalry\n",
      "5-3-specific places where u could take a lie detector test around van nuys? lie detector test\n",
      "7-4-are boys better than girls in math???\n",
      "7-6-what is the temperature on the sun and how to calculate the lost of heat per distance from it? so\n",
      "5-7-can you give me a quote that is only one word long?\n",
      "4-1-can there be a mutally satisfiying realationship when one pattner does not enjoy sex?\n",
      "3-4-what is better the proud family or dora the explora?\n",
      "1-5-i need a sample letter to inform my cpa that i am changing cpas?\n",
      "1-4-why are girls so mean to each other? even the ones who don't know you can be mean just for the sake of being mean.  i don't get it - why is that fun?\n",
      "3-1-who likes kung fu (the tv show) and why? give me meaningful answers!\n",
      "1-6-what is the minimum sentence a person can serve for rape in the first offense?\n",
      "5-1-what are the two names of the town in it's a wonderful life?\n",
      "6-4-is ringworm an indication of hiv? i don't know my hiv status but have reoccuring ringworm around my limbs\n",
      "5-1-what further training or additional courses should would-be teachers be required to take? how would these courses improve overall teacher quality?\n",
      "1-6-is bill gates the richest person in history after adjusting for inflation? who else would be on the list for consideration? &#xa;is inflation the only variable to take into account?&#xa;what about people who lived before modern accounting and the known inflation index?\n",
      "4-1-how come guys like me but don't have ta nerve 2 ask me out???\n",
      "1-7-why is the sky blue?\n",
      "2-1-i have a m861g mobo\n",
      "3-1-who wrote the screen play for the big lebowski?\n",
      "4-1-what's it like\n",
      "3-1-is there a way to subscribe to sirius to catch howard's show around the world online? i'm living in tokyo and often travel in china and would love to hear howard uncensored. i'm a 20 year fan of his since the mid-1980's in nyc. please help if you know the answer!\n",
      "4-1-are there any cute boys out there??? sexy boyszz?  just wonderingg &gt;&gt;&gt;3333\n",
      "5-3-do think that sat is a good measurement for how smart you are and how likely you are to succeed? if not\n",
      "3-2-could somebody tell me where i could buy the music sheet for the neapolitan song dicentencello vuie?\n",
      "3-1-i'm dying to see a new anime\n",
      "5-1-where can i learn all about flags? i need to find out what a flag's colors mean and its history.\n",
      "3-1-are satellite radio stations the same channels all across the country?\n",
      "3-4-wat's betta-the simpsons or family guy? and y?\n",
      "1-4-do you generally care about other people\n",
      "4-7-what is the reason for the increasing divorce percentage in the western world? what is the most common parameter that causing couples to separate\n",
      "7-6-is there a cure for malaria?\n",
      "3-5-trying to find out info about jerry lee lewis. does he still your the united states?\n",
      "7-4-has any work done on isolation and identification of microorganisms from tinned foods.?\n",
      "1-3-how did you find out you were gay?\n",
      "3-1-where can i find the french/japanese cartoon les mystérieuses cités d'or on dvd? it was a cartoon when i was a kid (mid 80s) about a spanish boy esteban and his two maya friends who were searching through central america in a giant golden flying condor. &#xa;&#xa;the series was set during the spanish conquest of the americas.  &#xa;&#xa;that show was so awesome.  i want to see it again\n",
      "5-1-what is the breakdown of iq levels? what level (score or number) is super intelligent\n",
      "4-5-what are good sound reasons for getting a divorce? my father told me to set what would make me divorce my husband and just deal with whatever did not fall in those reasons.\n",
      "1-3-what is the best riddle that you know? i'm trying to have a library of the best riddles that people encountered. so a good riddle would be a riddle that has no ugly tricks in it- pure logic answer – no tricks\n",
      "4-1-how do i find someone in lagos africa?\n",
      "1-7-why are we here in this world ????\n",
      "5-1-who were the friends of susan b. anthony or inspiration?\n",
      "4-1-what happens when u have sex 4 the first time?\n",
      "1-4-how do you get a guy to like you if you know he doesnt?\n",
      "2-1-guide to research about clustering for unix?\n",
      "2-4-msn email registration in outlook xpress ? hi\n",
      "7-1-is space infinite?\n",
      "1-4-my friend went to china\n",
      "3-2-who is you favorite charmed one.? holly marie combs (piper)\n",
      "7-1-is talc shiney or not shiney.?\n",
      "1-6-what’s the best way and easiest way to make money?\n",
      "7-1-gaciers in alaska are melting. global warming? what can we do? in the past recent decade\n",
      "4-1-can you or have you ever forgiven your man for betraying you with another?  (sexually)?\n",
      "4-1-how do you know when someone's cheating on you?\n",
      "2-7-how to see how much net has been used? mine is bsnl  broad band connection\n",
      "2-5-is adware the same thing as spyware if not please tell me the reason why.?\n",
      "2-3-have you ever pressed the shift key 5 times? i did it on accedent and i had my sound on so it sort scared me\n",
      "3-1-do you like the new setup for trading spaces without a host? its been about a year since page was fired (or left) from tlc.  just wondered what people's thoughts were on the host-less show.\n",
      "2-1-how to i get yahoo! to make it reasonably easy to ask support questions and have them respond meaningfully? - all people ever get is an automated response that\n",
      "3-1-who is the carver on nip tuck? i fell asleep and missed the ending?\n",
      "1-6-how do i hi meet a girl i've tried everthing can't seem to anyone please help?\n",
      "1-4-how do i make friends?\n",
      "4-5-i need a site where i can get cards with couple making love to send to my wife?\n",
      "6-1-why do we get dandruff?\n",
      "1-2-what is the address to answer a question here?\n",
      "4-1-can cruelty be sexy?\n",
      "4-6-why do wives lie and break promises so much?\n",
      "7-1-is the universe flat?\n",
      "6-1-what is the best way to treat constant dry eyes (otherwise\n",
      "3-4-is howie mandel gay?\n",
      "1-5-can you recommend a good credit union located in st. louis?\n",
      "5-3-what do you think is the single most important event of a high schooler's life?\n",
      "2-3-are the eclipse ide extensions rdt (ruby development tools) and radrails compatible with each other? i heard in their podcast\n",
      "4-1-can a person really be happy without having a bf/gf? are they neccesary for feeling loved and wanted? do you need a bf/gf in order to not feel lonely?\n",
      "4-1-who does cheat most of the time in a relationship\n",
      "1-3-in a 5-star restaurant\n",
      "6-7-why does the bird flu considered to be such a frightening disease? i seem that the entire world is dealing with it- what makes it different then other epidemic diseases?\n",
      "7-6-how does a calqulator work?\n",
      "3-1-will there be a third kill bill?\n",
      "1-3-what is one word that describes you best?\n",
      "2-1-is ntfs or fat32 formatting faster access?\n",
      "6-1-what does the morning after pill do? i just want to know what happens when u tak the morning after pill because me and my girl had unprotected sex and then we went to the youth health center so she took the pill and she said that she menstruated again after she had her period again so im just curious does this mean that she is pregnant\n",
      "6-1-can eyesight be trained or improved?  how?\n",
      "1-5-there are 3 words in the english language that end in gry. what are they?\n",
      "3-2-please unsubscribe les.1@sbcglobal.net from yahoo music? to whom it may concern:&#xa;i was seeking a reputable website with which to download music. this evening i immediately went to yahoo music because i felt this would be a safe reputable website.&#xa;i have had nothing but problems with this service for the entire evening. i want to unsubscribe to yahoo music. i have tried through your website to unsubscribe without success. the only option yahoo has offered me is to unsubscribe to the yahoo newsletter. i don't care about the yahoo newsletter. more importantly\n",
      "1-3-i worry too much about what others think of the questions i ask. should i? do you think people who think they've come down from the mount to annoint us with their decree on what is a worthy question need to be listened to or do they need to get a little stress releiver shaped like one of the powerpuff girls to squeeze whenever they see a question they don't like?\n",
      "2-7-what's yourfirst thought when you call a support line and the person has an indian accent?\n",
      "1-2-when will google buy yahoo? the two businesses are very complementary in terms of strengths and weaknesses. do we want to beat ourselves up competing with each other for resources and market share\n",
      "1-2-how can i find someone without using the find your highschool friends website? i need to find several people and i was wondering if telephone books from various cities are listed on the internet? how complete are they if they are listed?\n",
      "5-3-where is the  rhetorical device in this sentence? where is the rhetorical device in this sentence? the majority of americans will think that stronger drug abuse laws should be passed.\n",
      "5-1-how many colleges require you to have a foreign language credit?\n",
      "1-5-what's the fastest land animal? just what it says.\n",
      "7-1-when nuclear radiation enters the tube of a geiger counter\n",
      "2-1-what relationship does yahoo have with the government\n",
      "1-3-where did the phrase cop a feel originate?\n",
      "7-1-why is not correct to say that the univers is infinit.?\n",
      "4-1-how do you know if you are really bisexual?\n",
      "2-1-when did you have your first computer?\n",
      "2-7-what is the best on-line brokerage firm? i'm interested in buying/selling stocks on-line. what is the best on-line brokerage firm and why?\n",
      "2-1-what kind of memory do i need for a compaq presario v2000? i want to upgrade to 2 512 mb sticks. just need to know if it's sodimm or what?\n",
      "2-1-i'm having constant computer crashes.?\n",
      "1-3-where can i get information on which  mutual funds to invest in?\n",
      "3-1-how many albums does an artist have to sell to get a gold or platinum record?\n",
      "2-6-non posix-compatible c functions? what are posix non-compatible functions in c?\n",
      "5-3-please can anybody give me the descriptions of francois villon?\n",
      "3-5-how many seasons did seinfeld have?\n",
      "3-1-what is brown and sticky?\n",
      "3-7-are there proofs of homosexuality b/w batman &amp; robin?\n",
      "1-5-are you left handed? it is said that one out of every nine people are lefted handed.\n",
      "7-2-why do we get tickled when somebody tickles us and we don't when we tickle ourselves?\n",
      "1-2-what's your favorite christmas memory?\n",
      "3-1-what kind of cigarettes did christopher walken smoke in the film true romance?\n",
      "5-1-what is socio - economic ?\n",
      "3-1-what do you really think about ashanti?\n",
      "3-1-why is hilary duff soooo freakin' skinny? i was just wondering since i had just recently seen her movie cheaper by the dozen 2 and she is too skinny...she looks way older\n",
      "1-2-why is it important now to have a blog if you are looking for a job ? why is it important to have a blog if you are looking for a job ? how can it help ?\n",
      "2-1-if i choose to open an email attachment\n",
      "1-4-how can you make hundreds of thousands of dollars safely\n",
      "1-4-are there any women or girls out there who love to where high heels????????????? do u like open or close toe????????????&#xa;what is your favorit color shoes to where?????????&#xa;what size shoes do u where??????????\n",
      "6-7-does decaf coffee count for my daily water intake?\n",
      "4-1-if i have sex with this one guy is it going to hurt? i'm a virgin and i really want to you know what so is it gonna hurt or not the much\n",
      "1-6-why i such a jerk thinking myself?\n",
      "3-1-who's the best blues guitarist?\n",
      "3-4-is anyone else in total love/lust with sara silverman?\n",
      "7-3-why salt will be spread on snowy days?\n",
      "7-1-do objects traveling east to west go any further due to the earth's rotation?\n",
      "1-3-are you a virgin?   in what age did u lost  it?\n",
      "3-1-what was the name of the modern remake of shane that featured a villian with a bulldozer? not pale rider.\n",
      "4-5-forgive and forget? is it possible to forgive and forget a cheater?\n",
      "1-2-how can i download yahoo toolbar?\n",
      "1-2-who is the owner of yahoo.com?\n",
      "7-2-is there a studies about spaghetti containing coliform bacteria and e.coli? is there any website to look for?\n",
      "3-4-my girlfriend loves dashboard confessional. would she like further seems forever? i am hesitant to buy any sort of christian rock\n",
      "2-7-can any 1 tell me... what is rss?\n",
      "4-1-nationality in lovemaking? can anyone say that there is a definite difference in the sexual performance between women of different nationalities?  who makes the better lover?\n",
      "5-1-where did name of day thursday come from?\n",
      "6-4-what is the very last thing you think about right before you fall asleep?\n",
      "2-1-how do i change the nickname i chose when i first logged in to qa.yahoo.com? i'd like to have multiple personalities in this community but i don't know if it's possible.\n",
      "7-5-what is 1*10^23 in words not numbers please.?\n",
      "1-3-is there a  public place in bay area where one can stay late till 1 am and do  home work or read.  ?\n",
      "7-6-what's the rate of heat loss through a domestic well-insulated wall per sqm when the heat differential is 15c?\n",
      "2-1-why is the &lt;link /&gt; element the unsung hero of (x)html?\n",
      "5-1-why would big ten keep its name inspite of adding a 11th school? [colleges &amp; univs]&#xd;&lt;br&gt;&lt;br&gt;upto 1980s and early 90s\n",
      "2-3-where best to find free but original movies to download? both vcd and dvd.\n",
      "5-1-where did term tie the knot come from? what's the origin of the notion of marriage as tying the knot?\n",
      "4-1-how can my husband and i make friends? my husband is fairly anti-social and lazy. we don't have much of a social life outside of my family because my husband hates dealing with people. i am more social\n",
      "1-3-how old are you? i'm 28\n",
      "4-1-why do people hate perverts but just say no? the only real way to get rid of a pervert is to be more perverted than them\n",
      "7-5-is time travel possible?\n",
      "3-1-how do you set-up a personal video recorder without monthly fees? i figure why pay tivo or a cable company or a satellite company to use a personal video recorder\n",
      "1-6-how do you type the pound symbol? money pounds that is\n",
      "1-5-who do i contact about my student loan. i owe them money?\n",
      "4-1-how do you find a friends e-mail if you don't know it.?\n",
      "2-1-how what website is a good host for free with no bannar ads?\n",
      "7-2-how can i safely open a geode? i have gotten some unopened geodes for my dad for christmas. i want to include some instructions on how to safely crack them open while creating as few pieces as possible. they will vary in size from 3 - 5 across.\n",
      "7-1-how many ways is time measured?\n",
      "7-6-why does asparagus make your pee smell funny?\n",
      "1-3-where can i find coca-cola car seat covers?\n",
      "2-1-i tried to update java and it would not go thur \n",
      "4-1-what's the best pickup line?\n",
      "6-1-why do people get stressed all the time?\n",
      "2-1-favorite first person shooter? what do you think is the best among far cry\n",
      "4-1-who do you go to\n",
      "3-1-i want to burn cds  but i dont know how to?\n",
      "6-1-what is emphezma\n",
      "1-3-if i melt dry ice\n",
      "7-5-how is the climate in chennai city?\n",
      "4-1-when do you know the time when you're fellinf inlove?\n",
      "3-6-what's your best knock-knock joke? i've got a kid and have run out of jokes.\n",
      "1-3-what happened to the tv show invasion?\n",
      "4-1-do we have one soul mate? if i believe the man for me has come and gone because we were in the wrong place at the wrong time am i done? was he my soul mate? or will the man i am truly meant to be with still come along? how do you know and do we only get one shot?\n",
      "7-1-ok i need to know how ph affects rust? plz i need this for my science project?\n",
      "1-4-what wud u do if u become the president of ur country?\n",
      "2-7-i can't find the figures anywhere so i thought i'd try here. who has more users\n",
      "5-1-does teenage drinking influence the cause of depression?\n",
      "6-1-what's the best acne med out there? i have suffered from severe acne since fourth grade!!!!!!! don't say proactiv\n",
      "3-5-what city did jack\n",
      "5-1-what does zip code stand for?\n",
      "3-1-i have a bricked psp. can anyone tell me what i can do? i need to know what to do with my psp!  i want to get it fixed\n",
      "1-2-my email address is capdana@yahoo.com. i have been getting porno email from that address to me. what gives? who is using my email address?\n",
      "3-5-does anyone remember the nickleodeon cartoon city of gold? it was on in the 80's.? the cartoon was played on the pin-wheel program on nickleodeon. it looked like japanese animation. i only know of one other person who remembers this cartoon.\n",
      "1-3-what is the worst crime you think you would commit if you knew that no one would find out that it was you.?\n",
      "5-1-i need a map of new jersey between the 1600 and the 1700s including the rivers and towns?\n",
      "7-4-how do male penguins survive without eating for four months? how do male penguins survive without eating for the four winter months while hatching their youngs\n",
      "3-4-any celebrities in the family? i do\n",
      "5-1-what does xoxo stand for?\n",
      "3-6-what does the raining of frogs mean in the movie magnolia?\n",
      "6-7-do you believe that penis enlargment pills works.if yes\n",
      "1-3-why are gold prices going up?\n",
      "6-1-any home remedies/treatment for a brown recluse spider bite?\n",
      "1-7-how do you get mold out of bathing suits? i was tired after going swimming (i came home late) and i promptly forgot about my bathing suit and towel. now i've just found them and my towel was all black covered in mold. it was too far gone\n",
      "5-1-how much wood would a woodchuck chuck if a woodchuck could chuck wood?\n",
      "3-1-who liked baby blues the cartoon show? please add your favorite character from the show.&#xa;i like them all to much to lick just one.\n",
      "2-1-what is python 1.5\n",
      "3-1-do you know anyone who is obsessed with mariah carey? (besides me)?\n",
      "4-1-what is a good christmas gift idea for your girlfriend? girls incouraged to answer\n",
      "3-1-amazing race or survivor?\n",
      "5-1-i iam 36 should i go to a vocational school or college which one is more practical?\n",
      "4-1-need a romantic inscription for flowers &amp; new found love.? just met a new girl\n",
      "6-3-what does it mean to have only my left arm feel hot? when i went to bed last night my left arm felt very warm and no where else.  i don't know if it was normal or not.\n",
      "2-5-what is the singel most important thing you are missing on the internet ? what is the single most important thing you are missing on the internet ?\n",
      "4-1-is it possible to fall in love with someone in a week?\n",
      "2-1-how come i cannot remove the advertisement on the right hand side of my top screen? my area to read my email is so small\n",
      "4-3-i have heard the expressions first\n",
      "4-1-does a woman's size matter? peaople always ask does size matter? referring to men\n",
      "6-1-how do you do sex?\n",
      "3-4-what is the best place to party in sf? so i have been to sf once on broadway street with a lot of bars and clubs but somehow i didn't really like it because there are more strip clubs. where is the best street to find lots of nice clubs with normal women??? i prefer hip-hop or trance.\n",
      "1-5-how do i stay at home and have parents let me watch their kids for daycare? i can't find any info on going about this. i have a college degree and a teaching credential. thanks!\n",
      "1-3-why dont  men listen!?\n",
      "7-3-what is the square root of 49? trickier than you think.?\n",
      "1-3-how do i find our information about salary?\n",
      "3-1-i stand on one leg\n",
      "3-2-favorite comedian? i like adam sandler myself ;)\n",
      "3-1-what kind of extras are included on the roseanne dvds?\n",
      "6-3-what type of mpenis do u think is the best?cut or uncut.? just trying to no. thats it.\n",
      "4-1-what is inuyasha?\n",
      "2-6-i've hit my q&amp;a limit for answering questions for the day\n",
      "1-2-where is my email ( zmmaali@yahoo.com) if available so would you please inhansed again?\n",
      "2-5-i need a lap top for under $600.00 and need it prior to christmas....where do i go for it?\n",
      "6-7-do you really need 8 hours of sleep every night? i've also heard that it's bad to sleep more than 10 hours a night.\n",
      "7-1-what is cold?\n",
      "2-5-what do i need to open pdf files?\n",
      "4-3-would jesse mccartney ever date me? would jesse mccartney the very famous really hot actor who is 17 years old and sings beautiful soul and plays in the show summerland ever date me?\n",
      "4-1-how do you tell someone that you love them?\n",
      "7-1-how can i design electronic products?\n",
      "4-1-is there anyone for me?\n",
      "3-1-if there was a drug that could make musicians play and perform better\n",
      "6-4-should i date someone with hiv? my grilfriend is hiv postive in we are sexually active in i have few concerns.\n",
      "3-1-is there a cd w/kenny rogers and lionel richie for sale? there was a show on cmt w/the duo singing together. thought there was a cd for sale\n",
      "5-1-what is the meaning of mingle?\n",
      "6-1-d!ck vermeil\n",
      "2-3-what is the best photo slideshow creation application what is the best photo slideshow creation application\n",
      "3-5-it come in a pack \n",
      "7-1-can animals really predict earthquakes?\n",
      "1-2-where do i find a site on what jobs get paid how much?\n",
      "7-5-explanation for correlated wave function collapse at a distance (quantum mechanics)? i remember from physics class in college that two correlated wavefunctions (e.g.\n",
      "5-7-how to remove the unwanted kissmarks fast?\n",
      "1-4-what does my friend mean when she calls me a child then corrects herself and calls me a kid?\n",
      "2-1-what is the difference between phishing and pharming?\n",
      "1-2-why is it that i can only post 10 questions a day what if i had a major emergnecy and i needed help?\n",
      "2-1-how to erase all the words i've been searched from the yahoo search?\n",
      "2-5-why i can open the ecard from 123greetings.com?\n",
      "3-1-brothers and sisters\n",
      "3-1-do you agree with people who say coldplay is the new u2?\n",
      "5-1-more on spelling? a reecnt sudty conlcdued taht eevn if all the wrods in a snetecne are jmbueld togheter in the wrnog odrer\n",
      "6-1-if u have herpes simplex\n",
      "1-3-why do some days seem to last longer than others? yesterday was the worst\n",
      "4-1-how do you make someone like you?\n",
      "1-2-does yahoo always email your answer on yahoo! answers? even if i uncheck the box&#xa;yes\n",
      "1-4-is it really necessary to have a copyright date?  won't copyright alone suffice? this is in regards to copyright notices at the bottom of webpages.\n",
      "4-1-guys what do u think?? my boyfriend and i live together and have a good sex life--but lately he has been on porn sites.  what does this mean?\n",
      "5-2-sum of series: a) sum of i/3^i + i/5^i     and b) sum of 1/3^i + 1/5^i? these two are summations and i wish i could write it out for you but cannot on here...  any help?&#xa;(they're two seperate questions)\n",
      "1-6-what does fundamentalism mean?\n",
      "7-3-is it possible to measure the iq of a 7 year old. if so how?\n",
      "7-1-what are world's 3 smallest nations? i.e.&#xd;&lt;br&gt;which is the smallest nation?&#xd;&lt;br&gt;which is the next one in size?&#xd;&lt;br&gt;and then the next one?&#xd;&lt;br&gt;&lt;br&gt;how did they manage to become countries?\n",
      "7-5-who created the universe? we know the point of view of religion! what modern science is saying about it?\n",
      "3-1-where can u get bunnys are roadkill by afi? where can i get bunnys are road kill by afu for free on the inter net cuz i dnt wnt the entire myspace cd\n",
      "2-3-anybody know how can i download free movies from internet  without paying?\n",
      "2-1-what is the best microphone or headset for recording a podcast? the platform probably doesn't matter\n",
      "2-1-i have bought a new laptop ...it is wifi compliant!what sort of card should i buy to have wireless experience? can anyone let me know the name of company and cost of card in euros !!\n",
      "7-2-how do i use k-means clustering to group observations? how to find clusters composition in k-means clustering?&#xa;how to find changes in within-groups variance ?&#xa;what is initial centroids ?&#xa;what is cluster centroids ?&#xa;how to find distances between the cluster centroids ?&#xa;decomposition of the variance for the optimal solution means ?&#xa;can u explain discriminant analysis ?&#xa;what is central observations?&#xa;how to find distance between central observations ?&#xa;&#xa;answers based on equations are welcome. also pure excell functions (not add ins like xlstat\n",
      "5-1-how english became the common language in world?\n",
      "7-4-'intelligent design' should be better named 'malevolent design'. do you agree ?\n",
      "1-4-online press release? how do i do a effective online press release which are agencis / email ids i should send my press release to so that it is effectivily picked up by newswires?\n",
      "3-1-i need telugu devotional free ringtones where i have to find? devotional\n",
      "3-1-if u could only watch one tv a week what would it be?\n",
      "3-1-in what year did billie joe armstrong of green day get married?\n",
      "5-3-who wrote the words to the battle hymn of the republic??\n",
      "1-4-do men get hit with frying pans?\n",
      "3-1-can you tune a violin to include a c string?\n",
      "5-1-what is the difinition of foodchain and food web? on biology lessonsfood chainand web difinition\n",
      "6-1-what is good for a stomach ache?\n",
      "1-6-can a wife or husband get their spouse medical records without a court order or subpena in arkansas and how?\n",
      "6-1-should you tell someone you don't know that their breath smells? is is ethical to point it out or just keep it to yourself?\n",
      "5-1-who is the most highly regarded national college fraternity?\n",
      "5-6-what grade should sex education be taught in schools?\n",
      "5-1-which search engine has a mascot named arfie?\n",
      "3-1-wat will u do if u see one of ur favorite artist?\n",
      "7-1-why's watching television so addictive? whereas reading books isn't in general (no doubt there are some avid readers but  i am talking about the majority).\n",
      "3-1-did u see the finale episode of friends? i didn't :-( how was it? what happened?\n",
      "3-1-does halle berry have a new boyfriend?\n",
      "5-1-what animal laid the largest eggs?\n",
      "6-7-baggy eyes? how do you get rid of bags//bruising under your eyes? i've had this problem for years and the amount of sleep i get doesn't affect it unless it's too little and then the bruising worsens. any easy tips?\n",
      "7-1-what is the difference between permutations and combinations? the formulas would be helpful as well!\n",
      "6-1-what are the signs of a muscle pull?\n",
      "5-1-is it mongooses or mongeese?\n",
      "6-1-what is diferticulitis? it is an intestinal disorder\n",
      "4-5-do you have any stupid break up lines your ex gave u when they broke up with u? mine said\n",
      "7-6-what is the most widely used non destructive test method?\n",
      "2-4-how to make the nfsmw go smoothly in my com as iam having a lower graphics ?(256mb ram\n",
      "3-2-i want a website that i can download free iranian film from.what is the web site? it can be a web site that allows me to download free free and completly free film in iranian language.&#xa;it can also contain free iranian music download.\n",
      "1-2-can you remind of my password without the account information?\n",
      "2-1-how do i personally get my website on major search engines?\n",
      "1-2-what language is that question written in?\n",
      "4-1-why do teen want to have sex so early in life.?\n",
      "4-1-whats happening to my friends dad? could he be falling in love without even knowing? could he be obsessed? i have a friend who joined the army and got sent to afghanistan. he wanted a girlfriend\n",
      "5-1-is uni of phoenix degrees x credited by other us uni's?\n",
      "1-4-why are people called virgins before they have sex?\n",
      "5-1-who is the 16th president?\n",
      "1-6-how do you make free money?\n",
      "4-7-met some one on line! both feel same about on another ! am i being played  \n",
      "4-3-why do i get so sad when my husband goes camping for 3 days?\n",
      "6-4-is it possible to enlarge the male penis?\n",
      "1-3-what is the name of the rabbit in the magic hat on the movie\n",
      "2-1-what does it say yahoo beta what does that beta stands for?? why?????\n",
      "1-4-is it better to give or to receive? oh yeah ... this is about as open-ended of a question that there is ... let it rip people!!!\n",
      "5-1-where can i find the 1986 yearbook in dickinson\n",
      "2-5-who invented the mouse?\n",
      "7-6-i am a 9th grader.i have to make a mathematics project. pls suggest something?\n",
      "5-7-what's the biggest difference between high school &amp; college in terms of academics? is it just harder or is it more work?\n",
      "2-1-how to implement tagging (in a new project)? i am creating a new project (can't go into the details) and need to assign 'tags' to each 'article'.&#xa;&#xa;naturally i know that this has been done before by many people\n",
      "2-4-which is better\n",
      "1-4-would women that are gay like sex?\n",
      "1-4-what to get pharmacist boss for christmas? male about 36 married w/children 3 employees split cost\n",
      "3-1-what was the first disney animated character to appear in color?\n",
      "3-4-which cartoon series is/was better among quack pack\n",
      "7-1-do you think there is other life in other universes?\n",
      "5-1-what do you mean by the grass is always greener on the other side of the fence?\n",
      "6-4-what is the bad effect of not having sex regularly?\n",
      "1-2-what should i do for my 30th birthday?  anything goes...? i couldn't find a category for this question\n",
      "4-3-is love real anymore?\n",
      "4-1-what are the best ways to cut back from 2 incomes to 1 income? (to be a housewife)?\n",
      "5-1-why does hair continue to grow after someone dies ?\n",
      "4-7-how can you truly tell when someone loves you?\n",
      "2-1-what does the new eu law about data retention really mean to us?\n",
      "6-1-i am allergic to cats\n",
      "2-7-what is regular blue in hex color? e.g. - #ffffff (white)\n",
      "5-3-what are five names of us cities adopted from greek?\n",
      "3-1-who is stanislav ianevski?\n",
      "3-1-where do you find roads without vehicles\n",
      "6-1-why is my labium majora swollen?\n",
      "5-2-how do you make a sudoku puzzle? everytime i fill one in and it always says made by hand does this meana machine can't make them?&#xa;&#xa;i would rather get an answer to my first question please.\n",
      "4-1-how to make love with my wife? i will marry after one month and i did not make love before and i want to know the steps of how to make love successfully with my wife\n",
      "5-1-what can be done to lower the dropout rate in high schools?\n",
      "6-4-what are the reasons of late periods in unmarried girls around 23 yrs old? how can we get rid of late mensus....as it should in time...!\n",
      "2-1-does anyone know a good tutorial for typepad?\n",
      "2-7-how can i get a horizontal line in latex ?\n",
      "5-1-what is the capital of iran ?\n",
      "1-3-any it corporate structure guilline out there? corporate structure&#xa;what are departments?&#xa;what are positions for these departments?&#xa;what are responsibility and rights of these positions?\n",
      "2-1-hi.i am need  java script code.tnx?\n",
      "7-1-if a tree falls in a forest and no one is around\n",
      "2-1-i have a website. how can i do so yahoo find it when i put some kye words?\n",
      "4-3-how do you just end a 9yr relationship?\n",
      "2-1-microsoft word has eaten all my hyperlinks and bookmarks? the strangest thing just happend to my word document. there were hundreds of internal bookmarks in the document and i just finished adding page references next to those hyperlinks.&#xa;&#xa;after i saved the document\n",
      "5-2-i need help with using sparknotes.com. please click this q if you can help for more details. thanx? will sum1 go to www.sparknotes.com and find a chp by chp summary of summer of the monkeys and then post it onto the answers.thanyou so much cuz i dont know how. i tried but cant.\n",
      "4-1-what a son give best gift to his mother?\n",
      "7-3-why do i sound different when i hear my own voice? why do i sound different when i listen to my own voice on the answering machine or tape recorder?\n",
      "1-6-how much does a human head weigh?\n",
      "4-1-would you marry for love or money? honest answers only.? money? or love? hmmmmmmmmmmm.\n",
      "2-1-what are classes\n",
      "2-4-where's the best place to get online discount coupon codes?\n",
      "4-7-what's the sexiest accent on the planet?\n",
      "4-1-could it be nerves? i got up the guts to ask a girl out who really didnt know who i was.  i got a phone number and have called her twice\n",
      "7-1-why do we get hiccups?\n",
      "1-2-cannot get to website www.metlife.com for financial information?\n",
      "2-1-what are sockets in java.? what is sockets in java. is it true that a person with knowledge of sockets can hack any computer and take it over.\n",
      "3-1-when will the new episodes of justice league unlimited air?\n",
      "2-4-what is better\n",
      "1-6-will a rabbit fight a ginnie pig?\n",
      "6-4-what is your experience with the nuvaring birth control? do women like nuvaring? do men feel the nuvaring?\n",
      "1-6-how do u veiw someone's profile??????? when i try it does not work\n",
      "6-7-what is highest live expectancy in the world?\n",
      "5-2-what is your favorite quotation from henry david thoreau ?\n",
      "1-4-how many roads must a man walk  down? just a rhetorical musing...\n",
      "5-6-how could i go to sweden for education?\n",
      "7-1-capturing light in a container can we capture light in a container? will it run and shine forever? what kind of internal material we should use in order to do that?\n",
      "1-5-how is this possible? a boy was at a carnival and went to a booth where a man said to the boy\n",
      "2-5-what's the solution foreaster's sweet shop of shelly cashman's book concerning excel project number 3 plz? it's about candy\n",
      "3-1-i dreamed that i am undressed in public \n",
      "4-1-can u tell me the dfference between love and effection?\n",
      "4-1-what should do or buy? i have a friend at school\n",
      "6-7-what are the best type of false teeth?\n",
      "7-6-how long does take a space craft to get from the earth to the moon? astronomy. i would like to know how many days hours\n",
      "1-5-are there any websites i can chat with woman about their panties?\n",
      "7-1-what kind of acids do not completely ionize in solution?\n",
      "2-1-what are em\n"
     ]
    }
   ],
   "source": [
    "print(\"Actual\", \"Predicted\", \"Text\", sep=\"-\")\n",
    "for i in range(0, len(df_dev)):\n",
    "    if df_dev.ix[i][\"Category\"] != svm_predictions[i]:\n",
    "        print(df_dev.ix[i][\"Category\"], svm_predictions[i], df_dev.ix[i][\"Text\"], sep=\"-\")"
   ]
  },
  {
   "cell_type": "markdown",
   "metadata": {},
   "source": [
    "## Prediction of the Test Set"
   ]
  },
  {
   "cell_type": "code",
   "execution_count": 101,
   "metadata": {
    "collapsed": false
   },
   "outputs": [],
   "source": [
    "df_test = pd.read_csv(\"newtest.csv\")\n",
    "dev_features = vectorizer.transform(df_test[\"Text\"]).toarray()\n",
    "nb_predictions = nb_model.predict(dev_features)\n",
    "predictions = list(zip(df_test[\"Id\"], nb_predictions))\n",
    "predictions = pd.DataFrame(predictions)\n",
    "predictions.columns = [\"Id\", \"Category\"]\n",
    "predictions.to_csv(\"submission1.csv\", index=False)"
   ]
  },
  {
   "cell_type": "code",
   "execution_count": 244,
   "metadata": {
    "collapsed": true
   },
   "outputs": [],
   "source": [
    "df_test = pd.read_csv(\"newtest.csv\")\n",
    "dev_features = vectorizer.transform(df_test[\"Text\"]).toarray()\n",
    "gb_predictions = gb_model.predict(dev_features)\n",
    "predictions = list(zip(df_test[\"Id\"], gb_predictions))\n",
    "predictions = pd.DataFrame(predictions)\n",
    "predictions.columns = [\"Id\", \"Category\"]\n",
    "predictions.to_csv(\"submission2.csv\", index=False)"
   ]
  }
 ],
 "metadata": {
  "kernelspec": {
   "display_name": "Python 3",
   "language": "python",
   "name": "python3"
  }
 },
 "nbformat": 4,
 "nbformat_minor": 0
}
