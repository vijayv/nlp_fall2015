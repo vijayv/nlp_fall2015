{
 "cells": [
  {
   "cell_type": "markdown",
   "metadata": {},
   "source": [
    "#Introduction\n",
    "\n",
    "\n",
    "Section 1.1 of the NLTK book describes some pre-loaded books and pre-defined functions that come with them.  Section 1.2 reviews fundamental concepts about python lists and strings -- if you need to brush up on these concepts, then study this subsection carefully.  Be sure you know the difference between a *set* and a *list* and that you can work easily with python slices.\n",
    "\n",
    "The part that I am most interested in having you focus on is Section 1.3, which introduces NLTK's frequency distribution data structure.  You need to have the books loaded and accessible from section 1.1 for this part to work.\n",
    "\n",
    "##NLTK's Frequency Distribution Object\n",
    "\n",
    "This data structure makes it easy to tally up frequencies across words and other items, and incorporate them into list comprehensions (and later we'll see the conditional frequency distribution as well).\n",
    "\n",
    "These are the functions supported by FreqDis:\n",
    "\n",
    "```\n",
    "fdist = FreqDist(samples) create a frequency distribution containing the given samples\n",
    "fdist[sample] += 1\tincrement the count for this sample\n",
    "fdist['monstrous']\tcount of the number of times a given sample occurred\n",
    "fdist.freq('monstrous')\tfrequency of a given sample\n",
    "fdist.N()\ttotal number of samples\n",
    "fdist.most_common(n)\tthe n most common samples and their frequencies\n",
    "for sample in fdist:\titerate over the samples\n",
    "fdist.max()\tsample with the greatest count\n",
    "fdist.tabulate()\ttabulate the frequency distribution\n",
    "fdist.plot()\tgraphical plot of the frequency distribution\n",
    "fdist.plot(cumulative=True)\tcumulative plot of the frequency distribution\n",
    "fdist1 |= fdist2\tupdate fdist1 with counts from fdist2\n",
    "fdist1 < fdist2\ttest if samples in fdist1 occur less frequently than in fdist2\n",
    "```\n",
    "The code below counts up all of the words in *Monty Python and the Holy Grail* (text6 in the nltk.book collection) and the final line shows the top 50 most frequent."
   ]
  },
  {
   "cell_type": "code",
   "execution_count": 3,
   "metadata": {
    "collapsed": false
   },
   "outputs": [
    {
     "name": "stdout",
     "output_type": "stream",
     "text": [
      "showing info http://www.nltk.org/nltk_data/\n"
     ]
    },
    {
     "data": {
      "text/plain": [
       "True"
      ]
     },
     "execution_count": 3,
     "metadata": {},
     "output_type": "execute_result"
    }
   ],
   "source": [
    "import nltk\n",
    "nltk.download()"
   ]
  },
  {
   "cell_type": "code",
   "execution_count": 4,
   "metadata": {
    "collapsed": false
   },
   "outputs": [
    {
     "name": "stdout",
     "output_type": "stream",
     "text": [
      "*** Introductory Examples for the NLTK Book ***\n",
      "Loading text1, ..., text9 and sent1, ..., sent9\n",
      "Type the name of the text or sentence to view it.\n",
      "Type: 'texts()' or 'sents()' to list the materials.\n",
      "text1: Moby Dick by Herman Melville 1851\n",
      "text2: Sense and Sensibility by Jane Austen 1811\n",
      "text3: The Book of Genesis\n",
      "text4: Inaugural Address Corpus\n",
      "text5: Chat Corpus\n",
      "text6: Monty Python and the Holy Grail\n",
      "text7: Wall Street Journal\n",
      "text8: Personals Corpus\n",
      "text9: The Man Who Was Thursday by G . K . Chesterton 1908\n"
     ]
    },
    {
     "data": {
      "text/plain": [
       "[(':', 1197),\n",
       " ('.', 816),\n",
       " ('!', 801),\n",
       " (',', 731),\n",
       " (\"'\", 421),\n",
       " ('[', 319),\n",
       " (']', 312),\n",
       " ('the', 299),\n",
       " ('I', 255),\n",
       " ('ARTHUR', 225),\n",
       " ('?', 207),\n",
       " ('you', 204),\n",
       " ('a', 188),\n",
       " ('of', 158),\n",
       " ('--', 148),\n",
       " ('to', 144),\n",
       " ('s', 141),\n",
       " ('and', 135),\n",
       " ('#', 127),\n",
       " ('...', 118),\n",
       " ('Oh', 110),\n",
       " ('it', 107),\n",
       " ('is', 106),\n",
       " ('-', 88),\n",
       " ('in', 86),\n",
       " ('that', 84),\n",
       " ('t', 77),\n",
       " ('1', 76),\n",
       " ('LAUNCELOT', 76),\n",
       " ('No', 76),\n",
       " ('your', 75),\n",
       " ('not', 70),\n",
       " ('GALAHAD', 69),\n",
       " ('KNIGHT', 68),\n",
       " ('What', 65),\n",
       " ('FATHER', 63),\n",
       " ('we', 62),\n",
       " ('You', 61),\n",
       " ('BEDEVERE', 61),\n",
       " ('We', 60),\n",
       " ('this', 59),\n",
       " ('no', 55),\n",
       " ('Well', 54),\n",
       " ('HEAD', 54),\n",
       " ('GUARD', 53),\n",
       " ('have', 53),\n",
       " ('Sir', 52),\n",
       " ('are', 52),\n",
       " ('And', 50),\n",
       " ('A', 50)]"
      ]
     },
     "execution_count": 4,
     "metadata": {},
     "output_type": "execute_result"
    }
   ],
   "source": [
    "%matplotlib inline\n",
    "import matplotlib\n",
    "from nltk.book import *        # loads in pre-defined texts\n",
    "mp_freqdist = FreqDist(text6)  # compute the frequency distribution\n",
    "mp_freqdist.most_common(50)      # show the top 50 (word, frequency) pairs"
   ]
  },
  {
   "cell_type": "markdown",
   "metadata": {},
   "source": [
    "**Task 1** Wow, those are some weird results.  It might make some sense to look at the actual text itself.  In the line below, write a line of code that pulls out the first 500 words of the text and shows them to you (hint: the text object is simply a list of strings)."
   ]
  },
  {
   "cell_type": "code",
   "execution_count": 11,
   "metadata": {
    "collapsed": false
   },
   "outputs": [
    {
     "data": {
      "text/plain": [
       "\"SCENE 1 : [ wind ] [ clop clop clop ] KING ARTHUR : Whoa there ! [ clop clop clop ] SOLDIER # 1 : Halt ! Who goes there ? ARTHUR : It is I , Arthur , son of Uther Pendragon , from the castle of Camelot . King of the Britons , defeator of the Saxons , sovereign of all England ! SOLDIER # 1 : Pull the other one ! ARTHUR : I am , ... and this is my trusty servant Patsy . We have ridden the length and breadth of the land in search of knights who will join me in my court at Camelot . I must speak with your lord and master . SOLDIER # 1 : What ? Ridden on a horse ? ARTHUR : Yes ! SOLDIER # 1 : You ' re using coconuts ! ARTHUR : What ? SOLDIER # 1 : You ' ve got two empty halves of coconut and you ' re bangin ' ' em together . ARTHUR : So ? We have ridden since the snows of winter covered this land , through the kingdom of Mercea , through -- SOLDIER # 1 : Where ' d you get the coconuts ? ARTHUR : We found them . SOLDIER # 1 : Found them ? In Mercea ? The coconut ' s tropical ! ARTHUR : What do you mean ? SOLDIER # 1 : Well , this is a temperate zone . ARTHUR : The swallow may fly south with the sun or the house martin or the plover may seek warmer climes in winter , yet these are not strangers to our land ? SOLDIER # 1 : Are you suggesting coconuts migrate ? ARTHUR : Not at all . They could be carried . SOLDIER # 1 : What ? A swallow carrying a coconut ? ARTHUR : It could grip it by the husk ! SOLDIER # 1 : It ' s not a question of where he grips it ! It ' s a simple question of weight ratios ! A five ounce bird could not carry a one pound coconut . ARTHUR : Well , it doesn ' t matter . Will you go and tell your master that Arthur from the Court of Camelot is here . SOLDIER # 1 : Listen . In order to maintain air - speed velocity , a swallow needs to beat its wings forty - three times every second , right ? ARTHUR : Please ! SOLDIER # 1 : Am I right ? ARTHUR : I ' m not interested ! SOLDIER # 2 : It could be carried by an African swallow ! SOLDIER # 1 : Oh , yeah , an African swallow maybe , but not a European swallow . That ' s my point . SOLDIER # 2 : Oh , yeah , I agree with that . ARTHUR : Will you ask your\""
      ]
     },
     "execution_count": 11,
     "metadata": {},
     "output_type": "execute_result"
    }
   ],
   "source": [
    "\" \".join(text6[:500])"
   ]
  },
  {
   "cell_type": "markdown",
   "metadata": {},
   "source": [
    "**Task 2** Now that you've looked at the text, what are two reasons for these strange results?\n",
    "\n",
    "*Your Answer 1 goes here: Because it includes stage directions. (ex: [wind], [clop clop clop])\n",
    "\n",
    "*Your Answer 2 goes here: It is includes the speaker of the dialouge. (ex: \"Arthur: \", \"SOLDIER # 1 :\")\n"
   ]
  },
  {
   "cell_type": "markdown",
   "metadata": {},
   "source": [
    "**Task 3** Address one of the problems by modifying the text of Monty Python and rerunning the frequency distribution calculation.  In the box below write your code to modify the text:"
   ]
  },
  {
   "cell_type": "code",
   "execution_count": 40,
   "metadata": {
    "collapsed": false
   },
   "outputs": [],
   "source": [
    "import string\n",
    "exclude = list(string.punctuation) + list([\"--\",\"...\"]) + list(string.digits)\n",
    "\n",
    "# Ignore 1) upper case words that are used for character names used to indicate which character is speaking\n",
    "# 2) Punctuations and digits\n",
    "filtered_text6 = list(filter(lambda x: (not(x.isupper()) and not(x in exclude)), text6))"
   ]
  },
  {
   "cell_type": "markdown",
   "metadata": {},
   "source": [
    "**Task 4** In the box below, show the output after applying this version of the text to a FreqDist."
   ]
  },
  {
   "cell_type": "code",
   "execution_count": 41,
   "metadata": {
    "collapsed": false
   },
   "outputs": [
    {
     "data": {
      "text/plain": [
       "[('the', 299),\n",
       " ('you', 204),\n",
       " ('a', 188),\n",
       " ('of', 158),\n",
       " ('to', 144),\n",
       " ('s', 141),\n",
       " ('and', 135),\n",
       " ('Oh', 110),\n",
       " ('it', 107),\n",
       " ('is', 106),\n",
       " ('in', 86),\n",
       " ('that', 84),\n",
       " ('t', 77),\n",
       " ('No', 76),\n",
       " ('your', 75),\n",
       " ('not', 70),\n",
       " ('What', 65),\n",
       " ('we', 62),\n",
       " ('You', 61),\n",
       " ('We', 60),\n",
       " ('this', 59),\n",
       " ('no', 55),\n",
       " ('Well', 54),\n",
       " ('have', 53),\n",
       " ('Sir', 52),\n",
       " ('are', 52),\n",
       " ('And', 50),\n",
       " ('Ni', 47),\n",
       " ('on', 47),\n",
       " ('me', 46),\n",
       " ('He', 46),\n",
       " ('boom', 45),\n",
       " ('be', 43),\n",
       " ('he', 43),\n",
       " ('Yes', 42),\n",
       " ('ha', 42),\n",
       " ('re', 41),\n",
       " ('her', 40),\n",
       " ('clop', 39),\n",
       " ('with', 38),\n",
       " ('away', 38),\n",
       " ('my', 38),\n",
       " ('witch', 37),\n",
       " ('Arthur', 36),\n",
       " ('up', 36),\n",
       " ('It', 35),\n",
       " ('here', 34),\n",
       " ('m', 34),\n",
       " ('him', 34),\n",
       " ('do', 34)]"
      ]
     },
     "execution_count": 41,
     "metadata": {},
     "output_type": "execute_result"
    }
   ],
   "source": [
    "mp_freqdist = FreqDist(filtered_text6)  # compute the frequency distribution\n",
    "mp_freqdist.most_common(50)      # show the top 50 (word, frequency) pairs"
   ]
  },
  {
   "cell_type": "markdown",
   "metadata": {},
   "source": [
    "**Task 5** How if at all has the output changed?\n",
    "\n",
    "*Your Answer Goes Here: The filtering removed most of the punctuation and the character names from the frequency list. However, there are still some weird characters such as \"s\", \"t\", and \"re\" that require more investigation."
   ]
  },
  {
   "cell_type": "markdown",
   "metadata": {},
   "source": [
    "**Task 6** Following the example from the book, show a cumulative frequency plot for the words in Monty Python as newly computed, in the box below."
   ]
  },
  {
   "cell_type": "code",
   "execution_count": 42,
   "metadata": {
    "collapsed": false
   },
   "outputs": [
    {
     "data": {
      "image/png": "[encoded data removed]",
      "text/plain": [
       "<matplotlib.figure.Figure at 0x112993240>"
      ]
     },
     "metadata": {},
     "output_type": "display_data"
    }
   ],
   "source": [
    "mp_freqdist.plot(50, cumulative=True)"
   ]
  },
  {
   "cell_type": "markdown",
   "metadata": {},
   "source": [
    "**Task 7** In the box below, write a list comprehension that users the FreqDist you computed above to find all words in *Monty Python* that are longer than 5 characters long and occur at least 5 times (hint: the text shows how to do a variation of this).  \n",
    "Show the output sorted in alphabetical order."
   ]
  },
  {
   "cell_type": "code",
   "execution_count": 47,
   "metadata": {
    "collapsed": false
   },
   "outputs": [
    {
     "data": {
      "text/plain": [
       "['Aaaaugh',\n",
       " 'Arthur',\n",
       " 'Bedevere',\n",
       " 'Bridge',\n",
       " 'Britons',\n",
       " 'Camelot',\n",
       " 'Castle',\n",
       " 'Concorde',\n",
       " 'English',\n",
       " 'French',\n",
       " 'Galahad',\n",
       " 'Knight',\n",
       " 'Knights',\n",
       " 'Launcelot',\n",
       " 'Please',\n",
       " 'afraid',\n",
       " 'angels',\n",
       " 'better',\n",
       " 'castle',\n",
       " 'chanting',\n",
       " 'coconut',\n",
       " 'course',\n",
       " 'domine',\n",
       " 'dramatic',\n",
       " 'father',\n",
       " 'giggle',\n",
       " 'killed',\n",
       " 'knights',\n",
       " 'mumble',\n",
       " 'nothing',\n",
       " 'people',\n",
       " 'please',\n",
       " 'questions',\n",
       " 'rabbit',\n",
       " 'really',\n",
       " 'requiem',\n",
       " 'sacred',\n",
       " 'saying',\n",
       " 'second',\n",
       " 'shrubbery',\n",
       " 'singing',\n",
       " 'spanking',\n",
       " 'squeak',\n",
       " 'swallow',\n",
       " 'through']"
      ]
     },
     "execution_count": 47,
     "metadata": {},
     "output_type": "execute_result"
    }
   ],
   "source": [
    "vocab_text6 = set(filtered_text6)\n",
    "long_words = [w for w in vocab_text6 if len(w) > 5 and mp_freqdist[w] > 5]\n",
    "sorted(long_words)"
   ]
  }
 ],
 "metadata": {
  "kernelspec": {
   "display_name": "Python 3",
   "language": "python",
   "name": "python3"
  },
  "language_info": {
   "codemirror_mode": {
    "name": "ipython",
    "version": 3
   },
   "file_extension": ".py",
   "mimetype": "text/x-python",
   "name": "python",
   "nbconvert_exporter": "python",
   "pygments_lexer": "ipython3",
   "version": "3.4.3"
  }
 },
 "nbformat": 4,
 "nbformat_minor": 0
}
