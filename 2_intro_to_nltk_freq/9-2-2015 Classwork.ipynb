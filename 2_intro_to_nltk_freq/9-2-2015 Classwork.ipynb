{
 "cells": [
  {
   "cell_type": "code",
   "execution_count": 13,
   "metadata": {
    "collapsed": false
   },
   "outputs": [],
   "source": [
    "import nltk\n",
    "import matplotlib\n",
    "from nltk.book import *        # loads in pre-defined texts\n",
    "import statistics"
   ]
  },
  {
   "cell_type": "code",
   "execution_count": 40,
   "metadata": {
    "collapsed": false
   },
   "outputs": [
    {
     "name": "stdout",
     "output_type": "stream",
     "text": [
      "uninterpenetratingly\n"
     ]
    }
   ],
   "source": [
    "dict1 = {len(item): item for item in set(text1)}\n",
    "max_key = max([k for k, v in dict1.items()])\n",
    "print(dict1.get(max_key))\n"
   ]
  },
  {
   "cell_type": "code",
   "execution_count": 21,
   "metadata": {
    "collapsed": false
   },
   "outputs": [
    {
     "name": "stdout",
     "output_type": "stream",
     "text": [
      "number of words 260819\n",
      "number of unique words 19317\n",
      "average word length 3.830411128023649\n"
     ]
    }
   ],
   "source": [
    "print(\"number of words\", (len(text1)))\n",
    "print(\"number of unique words\", (len(set(text1))))\n",
    "print(\"average word length\", statistics.mean([len(item) for item in text1]))"
   ]
  }
 ],
 "metadata": {
  "kernelspec": {
   "display_name": "Python 3",
   "language": "python",
   "name": "python3"
  },
  "language_info": {
   "codemirror_mode": {
    "name": "ipython",
    "version": 3
   },
   "file_extension": ".py",
   "mimetype": "text/x-python",
   "name": "python",
   "nbconvert_exporter": "python",
   "pygments_lexer": "ipython3",
   "version": "3.4.3"
  }
 },
 "nbformat": 4,
 "nbformat_minor": 0
}
