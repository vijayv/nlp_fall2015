{
 "cells": [
  {
   "cell_type": "code",
   "execution_count": 19,
   "metadata": {
    "collapsed": false
   },
   "outputs": [
    {
     "name": "stdout",
     "output_type": "stream",
     "text": [
      "[0.4797209141427343, 0.15492036462139236, 0.9726912494663558, 0.25973458637796104, 0.8736736492945334, 1.0, 0.8091329951263118, 0.5472135464105191, 0.0, 0.6507547500473614]\n"
     ]
    }
   ],
   "source": [
    "import random\n",
    "\n",
    "random_numbers = [random.uniform(0, 1000) for _ in range(10)]\n",
    "\n",
    "def min_max(number_list):\n",
    "    return [(n - min(number_list)) / (max(number_list) - min(number_list)) for n in number_list]\n",
    "\n",
    "print(min_max(random_numbers))"
   ]
  }
 ],
 "metadata": {
  "kernelspec": {
   "display_name": "Python 3",
   "language": "python",
   "name": "python3"
  },
  "language_info": {
   "codemirror_mode": {
    "name": "ipython",
    "version": 3
   },
   "file_extension": ".py",
   "mimetype": "text/x-python",
   "name": "python",
   "nbconvert_exporter": "python",
   "pygments_lexer": "ipython3",
   "version": "3.4.3"
  }
 },
 "nbformat": 4,
 "nbformat_minor": 0
}
