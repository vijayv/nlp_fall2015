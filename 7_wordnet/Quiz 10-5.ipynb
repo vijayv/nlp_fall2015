{
 "cells": [
  {
   "cell_type": "code",
   "execution_count": 1,
   "metadata": {
    "collapsed": true
   },
   "outputs": [],
   "source": [
    "import nltk\n",
    "from nltk.corpus import wordnet as wn"
   ]
  },
  {
   "cell_type": "markdown",
   "metadata": {},
   "source": [
    "## Question 1"
   ]
  },
  {
   "cell_type": "code",
   "execution_count": 61,
   "metadata": {
    "collapsed": false
   },
   "outputs": [
    {
     "data": {
      "text/plain": [
       "[Synset('cat.n.01'),\n",
       " Synset('guy.n.01'),\n",
       " Synset('cat.n.03'),\n",
       " Synset('kat.n.01'),\n",
       " Synset('cat-o'-nine-tails.n.01'),\n",
       " Synset('caterpillar.n.02'),\n",
       " Synset('big_cat.n.01'),\n",
       " Synset('computerized_tomography.n.01'),\n",
       " Synset('cat.v.01'),\n",
       " Synset('vomit.v.01')]"
      ]
     },
     "execution_count": 61,
     "metadata": {},
     "output_type": "execute_result"
    }
   ],
   "source": [
    "wn.synsets('cat')"
   ]
  },
  {
   "cell_type": "markdown",
   "metadata": {},
   "source": [
    "## Question 2"
   ]
  },
  {
   "cell_type": "code",
   "execution_count": 7,
   "metadata": {
    "collapsed": false
   },
   "outputs": [
    {
     "data": {
      "text/plain": [
       "[('cat.n.01',\n",
       "  [],\n",
       "  'feline mammal usually having thick soft fur and no ability to roar: domestic cats; wildcats',\n",
       "  [Synset('feline.n.01')]),\n",
       " ('guy.n.01',\n",
       "  ['a nice guy', \"the guy's only doing it for some doll\"],\n",
       "  'an informal term for a youth or man',\n",
       "  [Synset('man.n.01')]),\n",
       " ('cat.n.03',\n",
       "  ['what a cat she is!'],\n",
       "  'a spiteful woman gossip',\n",
       "  [Synset('gossip.n.03'), Synset('woman.n.01')]),\n",
       " ('kat.n.01',\n",
       "  ['in Yemen kat is used daily by 85% of adults'],\n",
       "  'the leaves of the shrub Catha edulis which are chewed like tobacco or used to make tea; has the effect of a euphoric stimulant',\n",
       "  [Synset('stimulant.n.02')]),\n",
       " (\"cat-o'-nine-tails.n.01\",\n",
       "  ['British sailors feared the cat'],\n",
       "  'a whip with nine knotted cords',\n",
       "  [Synset('whip.n.01')]),\n",
       " ('caterpillar.n.02',\n",
       "  [],\n",
       "  'a large tracked vehicle that is propelled by two endless metal belts; frequently used for moving earth in construction and farm work',\n",
       "  [Synset('tracked_vehicle.n.01')]),\n",
       " ('big_cat.n.01',\n",
       "  [],\n",
       "  'any of several large cats typically able to roar and living in the wild',\n",
       "  [Synset('feline.n.01')]),\n",
       " ('computerized_tomography.n.01',\n",
       "  [],\n",
       "  'a method of examining body organs by scanning them with X rays and using a computer to construct a series of cross-sectional scans along a single axis',\n",
       "  [Synset('x-raying.n.01')])]"
      ]
     },
     "execution_count": 7,
     "metadata": {},
     "output_type": "execute_result"
    }
   ],
   "source": [
    "[(synset.name(), synset.examples(), synset.definition(), synset.hypernyms()) for synset in wn.synsets('cat', 'n')]"
   ]
  },
  {
   "cell_type": "markdown",
   "metadata": {},
   "source": [
    "## Question 3"
   ]
  },
  {
   "cell_type": "code",
   "execution_count": 28,
   "metadata": {
    "collapsed": false
   },
   "outputs": [
    {
     "name": "stdout",
     "output_type": "stream",
     "text": [
      "14\n",
      "13\n",
      "10\n",
      "9\n",
      "[7, 10, 7, 10, 7, 10]\n",
      "6\n"
     ]
    }
   ],
   "source": [
    "cat = wn.synset('cat.n.01')\n",
    "print(len(cat.hypernym_paths()[0]))\n",
    "print(cat.min_depth())\n",
    "\n",
    "cat2 = wn.synset(\"cat-o'-nine-tails.n.01\")\n",
    "print(len(cat2.hypernym_paths()[0]))\n",
    "print(cat2.min_depth())\n",
    "                 \n",
    "cat3 = wn.synset('cat.n.03')\n",
    "print([len(path) for path in cat3.hypernym_paths()])\n",
    "print(cat3.min_depth())"
   ]
  },
  {
   "cell_type": "markdown",
   "metadata": {},
   "source": [
    "## Question 4"
   ]
  },
  {
   "cell_type": "code",
   "execution_count": 51,
   "metadata": {
    "collapsed": false
   },
   "outputs": [
    {
     "name": "stdout",
     "output_type": "stream",
     "text": [
      "bank.n.01 0.07142857142857142 sloping land (especially the slope beside a body of water)\n",
      "bank.n.03 0.06666666666666667 a long ridge or pile\n",
      "bank.n.04 0.08333333333333333 an arrangement of similar objects in a row or in tiers\n",
      "bank.n.05 0.05263157894736842 a supply or stock held in reserve for future use (especially in emergencies)\n",
      "bank.n.06 0.07692307692307693 the funds held by a gambling house or the dealer in some gambling games\n",
      "bank.n.07 0.07142857142857142 a slope in the turn of a road or track; the outside is higher than the inside in order to reduce the effects of centrifugal force\n",
      "bank.n.09 0.0625 a building in which the business of banking transacted\n",
      "bank.n.10 0.058823529411764705 a flight maneuver; aircraft tips laterally about its longitudinal axis (especially in turning)\n"
     ]
    },
    {
     "data": {
      "text/plain": [
       "[Synset('bank.n.01'),\n",
       " Synset('depository_financial_institution.n.01'),\n",
       " Synset('bank.n.03'),\n",
       " Synset('bank.n.04'),\n",
       " Synset('bank.n.05'),\n",
       " Synset('bank.n.06'),\n",
       " Synset('bank.n.07'),\n",
       " Synset('savings_bank.n.02'),\n",
       " Synset('bank.n.09'),\n",
       " Synset('bank.n.10'),\n",
       " Synset('bank.v.01'),\n",
       " Synset('bank.v.02'),\n",
       " Synset('bank.v.03'),\n",
       " Synset('bank.v.04'),\n",
       " Synset('bank.v.05'),\n",
       " Synset('deposit.v.02'),\n",
       " Synset('bank.v.07'),\n",
       " Synset('trust.v.01')]"
      ]
     },
     "execution_count": 51,
     "metadata": {},
     "output_type": "execute_result"
    }
   ],
   "source": [
    "coin = wn.synset('coin.n.01')\n",
    "\n",
    "for i in ['01', '03', '04', '05', '06', '07', '09', '10']:\n",
    "    root = 'bank.n.'\n",
    "    bank = root + i\n",
    "    print(bank, coin.path_similarity(wn.synset(bank)), wn.synset(bank).definition())\n",
    "    \n",
    "wn.synsets('bank')"
   ]
  },
  {
   "cell_type": "code",
   "execution_count": 53,
   "metadata": {
    "collapsed": false
   },
   "outputs": [
    {
     "name": "stdout",
     "output_type": "stream",
     "text": [
      "mint.n.02 0.05555555555555555 any north temperate plant of the genus Mentha with aromatic leaves and small mauve flowers\n",
      "mint.n.03 0.0625 any member of the mint family of plants\n",
      "mint.n.04 0.05555555555555555 the leaves of a mint plant used fresh or candied\n",
      "mint.n.05 0.05555555555555555 a candy that is flavored with a mint oil\n",
      "mint.n.06 0.058823529411764705 a plant where money is coined by authority of the government\n"
     ]
    }
   ],
   "source": [
    "wn.synsets('mint')\n",
    "\n",
    "for i in ['02', '03', '04', '05', '06']:\n",
    "    root = 'mint.n.'\n",
    "    mint = root + i\n",
    "    print(mint, coin.path_similarity(wn.synset(mint)), wn.synset(mint).definition())"
   ]
  }
 ],
 "metadata": {
  "kernelspec": {
   "display_name": "Python 3",
   "language": "python",
   "name": "python3"
  },
  "language_info": {
   "codemirror_mode": {
    "name": "ipython",
    "version": 3
   },
   "file_extension": ".py",
   "mimetype": "text/x-python",
   "name": "python",
   "nbconvert_exporter": "python",
   "pygments_lexer": "ipython3",
   "version": "3.4.3"
  }
 },
 "nbformat": 4,
 "nbformat_minor": 0
}
