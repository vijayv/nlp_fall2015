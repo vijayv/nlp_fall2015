{
 "cells": [
  {
   "cell_type": "code",
   "execution_count": 9,
   "metadata": {
    "collapsed": false
   },
   "outputs": [],
   "source": [
    "import pandas as pd\n",
    "import numpy as np\n",
    "import nltk\n",
    "import pickle"
   ]
  },
  {
   "cell_type": "code",
   "execution_count": 10,
   "metadata": {
    "collapsed": true
   },
   "outputs": [],
   "source": [
    "from nltk.corpus import wordnet as wn, brown\n",
    "from nltk.corpus import stopwords\n",
    "\n",
    "stopwords = stopwords.words('english')\n",
    "stemmer = nltk.stem.porter.PorterStemmer()\n",
    "lemmatizer = nltk.WordNetLemmatizer()\n",
    "\n",
    "def filter_terms(in_str, sub_list=None):\n",
    "    if sub_list is None:\n",
    "        return in_str\n",
    "\n",
    "    for pattern in sub_list:\n",
    "        in_str = re.sub(\"\\\\b\" + pattern + \"\\\\b\", '', in_str)\n",
    "\n",
    "    return in_str\n",
    "\n",
    "def normalize(word):\n",
    "    \"\"\"Normalizes words to lowercase and stems and lemmatizes it.\"\"\"\n",
    "    word = word.lower()\n",
    "    word = stemmer.stem_word(word)\n",
    "    word = lemmatizer.lemmatize(word)\n",
    "    return word\n",
    "\n",
    "def acceptable_word(word):\n",
    "    \"\"\"Checks conditions for acceptable word: length, stopword.\"\"\"\n",
    "    accepted = bool(2 <= len(word) <= 40\n",
    "        and word.lower() not in stopwords)\n",
    "    return accepted\n",
    "\n",
    "def leaves(tree):\n",
    "    \"\"\"Finds NP (nounphrase) leaf nodes of a chunk tree.\"\"\"\n",
    "    for subtree in tree.subtrees(filter = lambda t: t.label()=='NP'):\n",
    "        yield subtree.leaves()\n",
    "        \n",
    "def get_terms(tree):\n",
    "    for leaf in leaves(tree):\n",
    "        term = [ w.lower() for w,t in leaf if acceptable_word(w) ]\n",
    "        yield term"
   ]
  },
  {
   "cell_type": "code",
   "execution_count": 27,
   "metadata": {
    "collapsed": false
   },
   "outputs": [],
   "source": [
    "try:\n",
    "    # data/bank_services.pickle or data/customer_service.pickle\n",
    "    with open('data/customer_service.pickle', 'rb') as f:\n",
    "        picked_data = pickle.load(f)\n",
    "except NameError as e:\n",
    "    print(e)"
   ]
  },
  {
   "cell_type": "code",
   "execution_count": 28,
   "metadata": {
    "collapsed": false,
    "scrolled": true
   },
   "outputs": [],
   "source": [
    "# Define Chunker Rules\n",
    "# Taken from Su Nam Kim Paper...\n",
    "noun_chunker = nltk.RegexpParser('''\n",
    "    NP:\n",
    "    {<NN.*|JJ>*<NN.*>}  # Nouns and Adjectives, terminated with Nouns\n",
    "    {(<NN.*|N.*>+<VBZ><DT|RB>?<JJ.*><NN.*|N.*>+?)}\n",
    "    {<VB.*>+<RB><JJ.*>+}\n",
    "''')\n",
    "\n",
    "# Key Phrases from Facebook\n",
    "key_phrases = []\n",
    "for i, comment in enumerate(picked_data):\n",
    "    tree = noun_chunker.parse(comment)\n",
    "    noun_phrase = [w for w in get_terms(tree)]\n",
    "    if len(noun_phrase) > 0:\n",
    "        for i, phrase in enumerate(noun_phrase):\n",
    "            key_phrases.append(phrase)"
   ]
  },
  {
   "cell_type": "code",
   "execution_count": 29,
   "metadata": {
    "collapsed": false
   },
   "outputs": [
    {
     "data": {
      "text/plain": [
       "[['informationbankb', 'customer', 'service', 'rep', 'mr'],\n",
       " ['whats'],\n",
       " ['name'],\n",
       " ['creditor'],\n",
       " ['youre'],\n",
       " ['stop', 'payment'],\n",
       " ['ron', 'child', 'supportshe', 'stops'],\n",
       " ['strbankeht'],\n",
       " ['eyes'],\n",
       " ['eyesmr'],\n",
       " ['cant'],\n",
       " ['hold'],\n",
       " ['child', 'support'],\n",
       " ['didnt'],\n",
       " ['sosmilingof', 'course'],\n",
       " [],\n",
       " ['transaction', 'happy', 'hump', 'day'],\n",
       " ['twithndl', 'provocateur'],\n",
       " ['worlds'],\n",
       " ['customer', 'service'],\n",
       " ['bankd'],\n",
       " ['exchange', 'theyd'],\n",
       " ['return'],\n",
       " ['replacement'],\n",
       " ['day', 'courier'],\n",
       " ['twithndlbankb'],\n",
       " ['page'],\n",
       " ['complaints'],\n",
       " ['complaints'],\n",
       " ['customer', 'service'],\n",
       " [],\n",
       " [],\n",
       " ['st', 'hand', 'bankb'],\n",
       " ['shits'],\n",
       " ['customers'],\n",
       " ['customers', 'theyve'],\n",
       " ['yrs'],\n",
       " ['twithndlbankb'],\n",
       " [],\n",
       " ['fraudulent', 'card'],\n",
       " ['paycheck'],\n",
       " ['pay', 'card'],\n",
       " ['fraud'],\n",
       " ['account'],\n",
       " ['bankb'],\n",
       " ['customer', 'service', 'representatives'],\n",
       " [],\n",
       " ['twithndl'],\n",
       " [],\n",
       " ['customer', 'service', 'experience'],\n",
       " ['additional', 'details'],\n",
       " ['feedbankb'],\n",
       " ['leadership', 'team'],\n",
       " ['contact'],\n",
       " ['twithndlbanka', 'bankabank'],\n",
       " ['horrible', 'horrible', 'bank'],\n",
       " ['bank'],\n",
       " ['banka'],\n",
       " ['reevaluate'],\n",
       " ['life', 'service', 'products'],\n",
       " ['customer', 'service'],\n",
       " ['bank', 'times'],\n",
       " ['call', 'customer', 'service'],\n",
       " ['th'],\n",
       " ['bankb', 'customer', 'service', 'rebanke', 'sucks', 'time'],\n",
       " ['swappbankes'],\n",
       " ['bankb', 'ur', 'killing'],\n",
       " ['switch'],\n",
       " ['usaa'],\n",
       " ['rawr'],\n",
       " ['bad', 'customer', 'service', 'ur'],\n",
       " ['bankd', 'bank', 'customer', 'service'],\n",
       " ['terrible', 'experience'],\n",
       " ['bout'],\n",
       " ['switch', 'banks'],\n",
       " ['guys'],\n",
       " ['years'],\n",
       " ['guys'],\n",
       " ['terrible', 'experience'],\n",
       " ['hope'],\n",
       " ['actual', 'teller'],\n",
       " ['issue'],\n",
       " [],\n",
       " ['guys'],\n",
       " ['bankdbanksucks'],\n",
       " ['money'],\n",
       " ['bankd', 'bank'],\n",
       " ['cash', 'deposit'],\n",
       " ['bankdbank'],\n",
       " ['rep'],\n",
       " [],\n",
       " ['account'],\n",
       " ['bankd'],\n",
       " ['money', 'order'],\n",
       " ['cash'],\n",
       " ['bankdbank'],\n",
       " ['inconsiderate', 'customer', 'service', 'service'],\n",
       " ['bankc'],\n",
       " ['customer', 'service', 'reps'],\n",
       " ['jobs']]"
      ]
     },
     "execution_count": 29,
     "metadata": {},
     "output_type": "execute_result"
    }
   ],
   "source": [
    "key_phrases[:100]"
   ]
  }
 ],
 "metadata": {
  "kernelspec": {
   "display_name": "Python 3",
   "language": "python",
   "name": "python3"
  },
  "language_info": {
   "codemirror_mode": {
    "name": "ipython",
    "version": 3
   },
   "file_extension": ".py",
   "mimetype": "text/x-python",
   "name": "python",
   "nbconvert_exporter": "python",
   "pygments_lexer": "ipython3",
   "version": "3.4.3"
  }
 },
 "nbformat": 4,
 "nbformat_minor": 0
}
