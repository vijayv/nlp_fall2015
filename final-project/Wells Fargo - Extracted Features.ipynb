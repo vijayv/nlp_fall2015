{
 "cells": [
  {
   "cell_type": "code",
   "execution_count": 1,
   "metadata": {
    "collapsed": true
   },
   "outputs": [],
   "source": [
    "import pandas as pd\n",
    "import numpy as np\n",
    "import nltk\n",
    "import re"
   ]
  },
  {
   "cell_type": "code",
   "execution_count": 2,
   "metadata": {
    "collapsed": false
   },
   "outputs": [
    {
     "data": {
      "text/html": [
       "<div>\n",
       "<table border=\"1\" class=\"dataframe\">\n",
       "  <thead>\n",
       "    <tr style=\"text-align: right;\">\n",
       "      <th></th>\n",
       "      <th>Date</th>\n",
       "      <th>Year</th>\n",
       "      <th>Month</th>\n",
       "      <th>MediaType</th>\n",
       "      <th>FullText</th>\n",
       "    </tr>\n",
       "    <tr>\n",
       "      <th>AutoID</th>\n",
       "      <th></th>\n",
       "      <th></th>\n",
       "      <th></th>\n",
       "      <th></th>\n",
       "      <th></th>\n",
       "    </tr>\n",
       "  </thead>\n",
       "  <tbody>\n",
       "    <tr>\n",
       "      <th>1</th>\n",
       "      <td>8/26/2015</td>\n",
       "      <td>2015</td>\n",
       "      <td>8</td>\n",
       "      <td>twitter</td>\n",
       "      <td>3 ways the internet of things will change Bank...</td>\n",
       "    </tr>\n",
       "    <tr>\n",
       "      <th>2</th>\n",
       "      <td>8/5/2015</td>\n",
       "      <td>2015</td>\n",
       "      <td>8</td>\n",
       "      <td>twitter</td>\n",
       "      <td>BankB BankB Name downgrades apple stock to neu...</td>\n",
       "    </tr>\n",
       "    <tr>\n",
       "      <th>3</th>\n",
       "      <td>8/12/2015</td>\n",
       "      <td>2015</td>\n",
       "      <td>8</td>\n",
       "      <td>twitter</td>\n",
       "      <td>BankB returns to profit on INTERNET/! board2? ...</td>\n",
       "    </tr>\n",
       "    <tr>\n",
       "      <th>4</th>\n",
       "      <td>8/5/2015</td>\n",
       "      <td>2015</td>\n",
       "      <td>8</td>\n",
       "      <td>twitter</td>\n",
       "      <td>BankB tells advisers to exit paulson hedge fun...</td>\n",
       "    </tr>\n",
       "    <tr>\n",
       "      <th>5</th>\n",
       "      <td>8/12/2015</td>\n",
       "      <td>2015</td>\n",
       "      <td>8</td>\n",
       "      <td>twitter</td>\n",
       "      <td>BankC may plead guilty over foreign exchange p...</td>\n",
       "    </tr>\n",
       "  </tbody>\n",
       "</table>\n",
       "</div>"
      ],
      "text/plain": [
       "             Date  Year  Month MediaType  \\\n",
       "AutoID                                     \n",
       "1       8/26/2015  2015      8   twitter   \n",
       "2        8/5/2015  2015      8   twitter   \n",
       "3       8/12/2015  2015      8   twitter   \n",
       "4        8/5/2015  2015      8   twitter   \n",
       "5       8/12/2015  2015      8   twitter   \n",
       "\n",
       "                                                 FullText  \n",
       "AutoID                                                     \n",
       "1       3 ways the internet of things will change Bank...  \n",
       "2       BankB BankB Name downgrades apple stock to neu...  \n",
       "3       BankB returns to profit on INTERNET/! board2? ...  \n",
       "4       BankB tells advisers to exit paulson hedge fun...  \n",
       "5       BankC may plead guilty over foreign exchange p...  "
      ]
     },
     "execution_count": 2,
     "metadata": {},
     "output_type": "execute_result"
    }
   ],
   "source": [
    "dataset = pd.read_csv(\"dataset.txt\", delimiter=\"|\", encoding=\"ISO-8859-1\", index_col=\"AutoID\")\n",
    "dataset.head()"
   ]
  },
  {
   "cell_type": "code",
   "execution_count": 3,
   "metadata": {
    "collapsed": true
   },
   "outputs": [],
   "source": [
    "def filter_terms(in_str, sub_list=[]):\n",
    "    if len(sub_list) == 0:\n",
    "        return in_str\n",
    "\n",
    "    for pattern in sub_list:\n",
    "        in_str = re.sub(\"\\\\b\" + pattern + \"\\\\b\", '', in_str)\n",
    "\n",
    "    return in_str"
   ]
  },
  {
   "cell_type": "code",
   "execution_count": null,
   "metadata": {
    "collapsed": false,
    "scrolled": true
   },
   "outputs": [],
   "source": [
    "# customer service\n",
    "mask = (dataset[\"FullText\"].apply(lambda x: 1 if re.search(\"Bank. credit card\", x) else 0))\n",
    "# (dataset[\"MediaType\"] == \"facebook\") & \\\n",
    "        \n",
    "#        (dataset[\"FullText\"].apply(lambda x: len(x)) > 1000)\n",
    "\n",
    "\n",
    "print(\"Comments that meet criteria: %s\" % len(dataset[mask]))\n",
    "\n",
    "# sub_list = [\"ADDRESS\", \"INTERNET\", \"Name\", \n",
    "#             \"twit_hndl\", \"PHONE\", \"twit_hndl_BankA\", \n",
    "#             \"twit_hndl_BankB\", \"twit_hndl_BankC\", \"twit_hndl_BankD\"\n",
    "#             \"BankA\", \"BankB\", \"BankC\", \"BankD\"]\n",
    "# sub_list += nltk.corpus.stopwords.words('english')\n",
    "\n",
    "# for comment in dataset[mask][\"FullText\"]:\n",
    "#     print(comment)\n",
    "# #     print(filter_terms(comment, sub_list))\n",
    "#     print()"
   ]
  },
  {
   "cell_type": "markdown",
   "metadata": {},
   "source": [
    "## Feature Creation"
   ]
  },
  {
   "cell_type": "code",
   "execution_count": 144,
   "metadata": {
    "collapsed": false,
    "scrolled": true
   },
   "outputs": [
    {
     "data": {
      "text/html": [
       "<div>\n",
       "<table border=\"1\" class=\"dataframe\">\n",
       "  <thead>\n",
       "    <tr style=\"text-align: right;\">\n",
       "      <th></th>\n",
       "      <th>Date</th>\n",
       "      <th>Year</th>\n",
       "      <th>Month</th>\n",
       "      <th>MediaType</th>\n",
       "      <th>FullText</th>\n",
       "      <th>FullTextLen</th>\n",
       "      <th>has_banka</th>\n",
       "      <th>has_bankb</th>\n",
       "      <th>has_bankc</th>\n",
       "      <th>has_bankd</th>\n",
       "      <th>...</th>\n",
       "      <th>has_bankc_handle</th>\n",
       "      <th>has_bankd_handle</th>\n",
       "      <th>has_address</th>\n",
       "      <th>has_link</th>\n",
       "      <th>has_phone</th>\n",
       "      <th>has_name</th>\n",
       "      <th>count_punctuation</th>\n",
       "      <th>count_exclaimation</th>\n",
       "      <th>count_link</th>\n",
       "      <th>count_name</th>\n",
       "    </tr>\n",
       "    <tr>\n",
       "      <th>AutoID</th>\n",
       "      <th></th>\n",
       "      <th></th>\n",
       "      <th></th>\n",
       "      <th></th>\n",
       "      <th></th>\n",
       "      <th></th>\n",
       "      <th></th>\n",
       "      <th></th>\n",
       "      <th></th>\n",
       "      <th></th>\n",
       "      <th></th>\n",
       "      <th></th>\n",
       "      <th></th>\n",
       "      <th></th>\n",
       "      <th></th>\n",
       "      <th></th>\n",
       "      <th></th>\n",
       "      <th></th>\n",
       "      <th></th>\n",
       "      <th></th>\n",
       "      <th></th>\n",
       "    </tr>\n",
       "  </thead>\n",
       "  <tbody>\n",
       "    <tr>\n",
       "      <th>1</th>\n",
       "      <td>8/26/2015</td>\n",
       "      <td>2015</td>\n",
       "      <td>8</td>\n",
       "      <td>twitter</td>\n",
       "      <td>3 ways the internet of things will change Bank...</td>\n",
       "      <td>100</td>\n",
       "      <td>0</td>\n",
       "      <td>1</td>\n",
       "      <td>1</td>\n",
       "      <td>0</td>\n",
       "      <td>...</td>\n",
       "      <td>0</td>\n",
       "      <td>0</td>\n",
       "      <td>0</td>\n",
       "      <td>0</td>\n",
       "      <td>0</td>\n",
       "      <td>1</td>\n",
       "      <td>0</td>\n",
       "      <td>0</td>\n",
       "      <td>0</td>\n",
       "      <td>1</td>\n",
       "    </tr>\n",
       "    <tr>\n",
       "      <th>2</th>\n",
       "      <td>8/5/2015</td>\n",
       "      <td>2015</td>\n",
       "      <td>8</td>\n",
       "      <td>twitter</td>\n",
       "      <td>BankB BankB Name downgrades apple stock to neu...</td>\n",
       "      <td>95</td>\n",
       "      <td>0</td>\n",
       "      <td>1</td>\n",
       "      <td>0</td>\n",
       "      <td>0</td>\n",
       "      <td>...</td>\n",
       "      <td>0</td>\n",
       "      <td>0</td>\n",
       "      <td>0</td>\n",
       "      <td>0</td>\n",
       "      <td>0</td>\n",
       "      <td>1</td>\n",
       "      <td>0</td>\n",
       "      <td>0</td>\n",
       "      <td>0</td>\n",
       "      <td>1</td>\n",
       "    </tr>\n",
       "    <tr>\n",
       "      <th>3</th>\n",
       "      <td>8/12/2015</td>\n",
       "      <td>2015</td>\n",
       "      <td>8</td>\n",
       "      <td>twitter</td>\n",
       "      <td>BankB returns to profit on INTERNET/! board2? ...</td>\n",
       "      <td>55</td>\n",
       "      <td>0</td>\n",
       "      <td>1</td>\n",
       "      <td>0</td>\n",
       "      <td>0</td>\n",
       "      <td>...</td>\n",
       "      <td>0</td>\n",
       "      <td>0</td>\n",
       "      <td>0</td>\n",
       "      <td>1</td>\n",
       "      <td>0</td>\n",
       "      <td>0</td>\n",
       "      <td>1</td>\n",
       "      <td>1</td>\n",
       "      <td>0</td>\n",
       "      <td>0</td>\n",
       "    </tr>\n",
       "    <tr>\n",
       "      <th>4</th>\n",
       "      <td>8/5/2015</td>\n",
       "      <td>2015</td>\n",
       "      <td>8</td>\n",
       "      <td>twitter</td>\n",
       "      <td>BankB tells advisers to exit paulson hedge fun...</td>\n",
       "      <td>126</td>\n",
       "      <td>0</td>\n",
       "      <td>1</td>\n",
       "      <td>0</td>\n",
       "      <td>0</td>\n",
       "      <td>...</td>\n",
       "      <td>0</td>\n",
       "      <td>0</td>\n",
       "      <td>0</td>\n",
       "      <td>0</td>\n",
       "      <td>0</td>\n",
       "      <td>1</td>\n",
       "      <td>0</td>\n",
       "      <td>0</td>\n",
       "      <td>0</td>\n",
       "      <td>1</td>\n",
       "    </tr>\n",
       "    <tr>\n",
       "      <th>5</th>\n",
       "      <td>8/12/2015</td>\n",
       "      <td>2015</td>\n",
       "      <td>8</td>\n",
       "      <td>twitter</td>\n",
       "      <td>BankC may plead guilty over foreign exchange p...</td>\n",
       "      <td>82</td>\n",
       "      <td>0</td>\n",
       "      <td>0</td>\n",
       "      <td>1</td>\n",
       "      <td>0</td>\n",
       "      <td>...</td>\n",
       "      <td>0</td>\n",
       "      <td>0</td>\n",
       "      <td>0</td>\n",
       "      <td>1</td>\n",
       "      <td>0</td>\n",
       "      <td>0</td>\n",
       "      <td>1</td>\n",
       "      <td>1</td>\n",
       "      <td>0</td>\n",
       "      <td>0</td>\n",
       "    </tr>\n",
       "  </tbody>\n",
       "</table>\n",
       "<p>5 rows × 22 columns</p>\n",
       "</div>"
      ],
      "text/plain": [
       "             Date  Year  Month MediaType  \\\n",
       "AutoID                                     \n",
       "1       8/26/2015  2015      8   twitter   \n",
       "2        8/5/2015  2015      8   twitter   \n",
       "3       8/12/2015  2015      8   twitter   \n",
       "4        8/5/2015  2015      8   twitter   \n",
       "5       8/12/2015  2015      8   twitter   \n",
       "\n",
       "                                                 FullText  FullTextLen  \\\n",
       "AutoID                                                                   \n",
       "1       3 ways the internet of things will change Bank...          100   \n",
       "2       BankB BankB Name downgrades apple stock to neu...           95   \n",
       "3       BankB returns to profit on INTERNET/! board2? ...           55   \n",
       "4       BankB tells advisers to exit paulson hedge fun...          126   \n",
       "5       BankC may plead guilty over foreign exchange p...           82   \n",
       "\n",
       "        has_banka  has_bankb  has_bankc  has_bankd     ...      \\\n",
       "AutoID                                                 ...       \n",
       "1               0          1          1          0     ...       \n",
       "2               0          1          0          0     ...       \n",
       "3               0          1          0          0     ...       \n",
       "4               0          1          0          0     ...       \n",
       "5               0          0          1          0     ...       \n",
       "\n",
       "        has_bankc_handle  has_bankd_handle  has_address  has_link  has_phone  \\\n",
       "AutoID                                                                         \n",
       "1                      0                 0            0         0          0   \n",
       "2                      0                 0            0         0          0   \n",
       "3                      0                 0            0         1          0   \n",
       "4                      0                 0            0         0          0   \n",
       "5                      0                 0            0         1          0   \n",
       "\n",
       "        has_name  count_punctuation  count_exclaimation  count_link  \\\n",
       "AutoID                                                                \n",
       "1              1                  0                   0           0   \n",
       "2              1                  0                   0           0   \n",
       "3              0                  1                   1           0   \n",
       "4              1                  0                   0           0   \n",
       "5              0                  1                   1           0   \n",
       "\n",
       "        count_name  \n",
       "AutoID              \n",
       "1                1  \n",
       "2                1  \n",
       "3                0  \n",
       "4                1  \n",
       "5                0  \n",
       "\n",
       "[5 rows x 22 columns]"
      ]
     },
     "execution_count": 144,
     "metadata": {},
     "output_type": "execute_result"
    }
   ],
   "source": [
    "# Text Characteristics\n",
    "dataset[\"FullTextLen\"] = dataset[\"FullText\"].apply(len)\n",
    "\n",
    "# Mentions Bank\n",
    "dataset[\"has_banka\"] = dataset[\"FullText\"].apply(lambda x: 1 if re.search(\"BankA\", x) else 0)\n",
    "dataset[\"has_bankb\"] = dataset[\"FullText\"].apply(lambda x: 1 if re.search(\"BankB\", x) else 0)\n",
    "dataset[\"has_bankc\"] = dataset[\"FullText\"].apply(lambda x: 1 if re.search(\"BankC\", x) else 0)\n",
    "dataset[\"has_bankd\"] = dataset[\"FullText\"].apply(lambda x: 1 if re.search(\"BankD\", x) else 0)\n",
    "\n",
    "# Has Twitter Handles\n",
    "dataset[\"has_banka_handle\"] = dataset[\"FullText\"].apply(lambda x: 1 if re.search(\"twit_hndl_BankA\", x) else 0)\n",
    "dataset[\"has_bankb_handle\"] = dataset[\"FullText\"].apply(lambda x: 1 if re.search(\"twit_hndl_BankB\", x) else 0)\n",
    "dataset[\"has_bankc_handle\"] = dataset[\"FullText\"].apply(lambda x: 1 if re.search(\"twit_hndl_BankC\", x) else 0)\n",
    "dataset[\"has_bankd_handle\"] = dataset[\"FullText\"].apply(lambda x: 1 if re.search(\"twit_hndl_BankD\", x) else 0)\n",
    "\n",
    "# Has components\n",
    "dataset[\"has_address\"] = dataset[\"FullText\"].apply(lambda x: 1 if re.search(\"ADDRESS\", x) else 0)\n",
    "dataset[\"has_link\"] = dataset[\"FullText\"].apply(lambda x: 1 if re.search(\"INTERNET\", x) else 0)\n",
    "dataset[\"has_phone\"] = dataset[\"FullText\"].apply(lambda x: 1 if re.search(\"PHONE\", x) else 0)\n",
    "dataset[\"has_name\"] = dataset[\"FullText\"].apply(lambda x: 1 if re.search(\"Name\", x) else 0)\n",
    "\n",
    "# Count Punctuations\n",
    "dataset[\"count_exclaimation\"] = dataset[\"FullText\"].apply(lambda x: len(re.findall(\"!\", x)) if re.findall(\"!\", x) else 0)\n",
    "dataset[\"count_link\"] = dataset[\"FullText\"].apply(lambda x: len(re.findall(\"INTNERET\", x)) if re.findall(\"INTERNET\", x) else 0)\n",
    "dataset[\"count_name\"] = dataset[\"FullText\"].apply(lambda x: len(re.findall(\"Name\", x)) if re.findall(\"Name\", x) else 0)\n",
    "\n",
    "dataset.head()"
   ]
  },
  {
   "cell_type": "markdown",
   "metadata": {},
   "source": [
    "## Sample Dataset"
   ]
  },
  {
   "cell_type": "code",
   "execution_count": 145,
   "metadata": {
    "collapsed": false
   },
   "outputs": [],
   "source": [
    "rows = np.random.choice(dataset.index.values, 10000)\n",
    "sample = dataset.ix[rows]"
   ]
  },
  {
   "cell_type": "markdown",
   "metadata": {},
   "source": [
    "## DictVectorizer"
   ]
  },
  {
   "cell_type": "code",
   "execution_count": 167,
   "metadata": {
    "collapsed": false,
    "scrolled": true
   },
   "outputs": [
    {
     "name": "stderr",
     "output_type": "stream",
     "text": [
      "/Users/vijayv/anaconda/lib/python3.4/site-packages/pandas/core/frame.py:711: UserWarning: DataFrame columns are not unique, some columns will be omitted.\n",
      "  \"columns will be omitted.\", UserWarning)\n"
     ]
    }
   ],
   "source": [
    "from sklearn.feature_extraction import DictVectorizer\n",
    "vec = DictVectorizer()\n",
    "cols = [\"has_banka\", \"has_bankb\", \"has_bankc\", \"has_bankd\", \"has_banka_handle\", \"has_bankb_handle\",\n",
    "        \"has_bankc_handle\", \"has_bankd_handle\", \"has_address\", \"has_link\", \"has_phone\", \"has_name\"]\n",
    "vec = vec.fit_transform(sample[cols].transpose().to_dict().values())"
   ]
  },
  {
   "cell_type": "code",
   "execution_count": 170,
   "metadata": {
    "collapsed": false
   },
   "outputs": [
    {
     "name": "stdout",
     "output_type": "stream",
     "text": [
      "CPU times: user 2.41 s, sys: 16 ms, total: 2.42 s\n",
      "Wall time: 2.59 s\n"
     ]
    }
   ],
   "source": [
    "from sklearn.cluster import KMeans\n",
    "num_clusters = 5\n",
    "\n",
    "km = KMeans(n_clusters=num_clusters)\n",
    "\n",
    "%time km.fit(vec)\n",
    "\n",
    "clusters = km.labels_.tolist()"
   ]
  },
  {
   "cell_type": "code",
   "execution_count": null,
   "metadata": {
    "collapsed": true
   },
   "outputs": [],
   "source": [
    "print(\"Top terms per cluster:\")\n",
    "print()\n",
    "order_centroids = km.cluster_centers_.argsort()[:, ::-1]\n",
    "terms = tfidf_vectorizer.get_feature_names()\n",
    "\n",
    "for i in range(num_clusters):\n",
    "    print(\"Cluster %d words:\" % i, end='')\n",
    "    \n",
    "    for ind in order_centroids[i, :20]:\n",
    "        print(\" %s\" % vocab_frame.ix[terms[ind].split(' ')].values.tolist()[0][0], end=\",\")\n",
    "    print()\n",
    "    print()\n",
    "    \n",
    "print()\n",
    "print()"
   ]
  },
  {
   "cell_type": "code",
   "execution_count": 111,
   "metadata": {
    "collapsed": false
   },
   "outputs": [
    {
     "data": {
      "text/plain": [
       "['cluster_algo1.pkl', 'cluster_algo1.pkl_01.npy', 'cluster_algo1.pkl_02.npy']"
      ]
     },
     "execution_count": 111,
     "metadata": {},
     "output_type": "execute_result"
    }
   ],
   "source": [
    "from sklearn.externals import joblib\n",
    "\n",
    "joblib.dump(km, 'cluster_algo1.pkl')\n",
    "\n",
    "# km = joblib.load('cluster_algo1.pkl')"
   ]
  }
 ],
 "metadata": {
  "kernelspec": {
   "display_name": "Python 3",
   "language": "python",
   "name": "python3"
  },
  "language_info": {
   "codemirror_mode": {
    "name": "ipython",
    "version": 3
   },
   "file_extension": ".py",
   "mimetype": "text/x-python",
   "name": "python",
   "nbconvert_exporter": "python",
   "pygments_lexer": "ipython3",
   "version": "3.4.3"
  }
 },
 "nbformat": 4,
 "nbformat_minor": 0
}
