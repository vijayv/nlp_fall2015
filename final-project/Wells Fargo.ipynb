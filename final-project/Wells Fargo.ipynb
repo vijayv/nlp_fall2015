{
 "cells": [
  {
   "cell_type": "code",
   "execution_count": 16,
   "metadata": {
    "collapsed": true
   },
   "outputs": [],
   "source": [
    "import pandas as pd\n",
    "import numpy as np"
   ]
  },
  {
   "cell_type": "code",
   "execution_count": 28,
   "metadata": {
    "collapsed": false
   },
   "outputs": [
    {
     "data": {
      "text/html": [
       "<div>\n",
       "<table border=\"1\" class=\"dataframe\">\n",
       "  <thead>\n",
       "    <tr style=\"text-align: right;\">\n",
       "      <th></th>\n",
       "      <th>Date</th>\n",
       "      <th>Year</th>\n",
       "      <th>Month</th>\n",
       "      <th>MediaType</th>\n",
       "      <th>FullText</th>\n",
       "    </tr>\n",
       "    <tr>\n",
       "      <th>AutoID</th>\n",
       "      <th></th>\n",
       "      <th></th>\n",
       "      <th></th>\n",
       "      <th></th>\n",
       "      <th></th>\n",
       "    </tr>\n",
       "  </thead>\n",
       "  <tbody>\n",
       "    <tr>\n",
       "      <th>1</th>\n",
       "      <td>8/26/2015</td>\n",
       "      <td>2015</td>\n",
       "      <td>8</td>\n",
       "      <td>twitter</td>\n",
       "      <td>3 ways the internet of things will change Bank...</td>\n",
       "    </tr>\n",
       "    <tr>\n",
       "      <th>2</th>\n",
       "      <td>8/5/2015</td>\n",
       "      <td>2015</td>\n",
       "      <td>8</td>\n",
       "      <td>twitter</td>\n",
       "      <td>BankB BankB Name downgrades apple stock to neu...</td>\n",
       "    </tr>\n",
       "    <tr>\n",
       "      <th>3</th>\n",
       "      <td>8/12/2015</td>\n",
       "      <td>2015</td>\n",
       "      <td>8</td>\n",
       "      <td>twitter</td>\n",
       "      <td>BankB returns to profit on INTERNET/! board2? ...</td>\n",
       "    </tr>\n",
       "    <tr>\n",
       "      <th>4</th>\n",
       "      <td>8/5/2015</td>\n",
       "      <td>2015</td>\n",
       "      <td>8</td>\n",
       "      <td>twitter</td>\n",
       "      <td>BankB tells advisers to exit paulson hedge fun...</td>\n",
       "    </tr>\n",
       "    <tr>\n",
       "      <th>5</th>\n",
       "      <td>8/12/2015</td>\n",
       "      <td>2015</td>\n",
       "      <td>8</td>\n",
       "      <td>twitter</td>\n",
       "      <td>BankC may plead guilty over foreign exchange p...</td>\n",
       "    </tr>\n",
       "  </tbody>\n",
       "</table>\n",
       "</div>"
      ],
      "text/plain": [
       "             Date  Year  Month MediaType  \\\n",
       "AutoID                                     \n",
       "1       8/26/2015  2015      8   twitter   \n",
       "2        8/5/2015  2015      8   twitter   \n",
       "3       8/12/2015  2015      8   twitter   \n",
       "4        8/5/2015  2015      8   twitter   \n",
       "5       8/12/2015  2015      8   twitter   \n",
       "\n",
       "                                                 FullText  \n",
       "AutoID                                                     \n",
       "1       3 ways the internet of things will change Bank...  \n",
       "2       BankB BankB Name downgrades apple stock to neu...  \n",
       "3       BankB returns to profit on INTERNET/! board2? ...  \n",
       "4       BankB tells advisers to exit paulson hedge fun...  \n",
       "5       BankC may plead guilty over foreign exchange p...  "
      ]
     },
     "execution_count": 28,
     "metadata": {},
     "output_type": "execute_result"
    }
   ],
   "source": [
    "dataset = pd.read_csv(\"dataset.txt\", delimiter=\"|\", encoding=\"ISO-8859-1\", index_col=\"AutoID\")\n",
    "dataset.head()"
   ]
  },
  {
   "cell_type": "code",
   "execution_count": 38,
   "metadata": {
    "collapsed": false
   },
   "outputs": [
    {
     "name": "stdout",
     "output_type": "stream",
     "text": [
      "             Date    Year   Month  FullText  FullTextLen   BankA   BankB  \\\n",
      "MediaType                                                                  \n",
      "facebook    83647   83647   83647     83647        83647   83647   83647   \n",
      "twitter    136730  136730  136730    136730       136730  136730  136730   \n",
      "\n",
      "            BankC  \n",
      "MediaType          \n",
      "facebook    83647  \n",
      "twitter    136730  \n",
      "                 Year     Month  FullTextLen      BankA      BankB      BankC\n",
      "MediaType                                                                    \n",
      "facebook   2014.35755  7.594869   173.643932  22.667543  20.473741  11.358040\n",
      "twitter    2015.00000  8.000000   100.969312   8.184539   7.506275   5.143085\n"
     ]
    }
   ],
   "source": [
    "dataset[\"FullTextLen\"] = dataset[\"FullText\"].apply(len)\n",
    "dataset[\"BankA\"] = dataset[\"FullText\"].apply(lambda x: x.find(\"BankA\"))\n",
    "dataset[\"BankB\"] = dataset[\"FullText\"].apply(lambda x: x.find(\"BankB\"))\n",
    "dataset[\"BankC\"] = dataset[\"FullText\"].apply(lambda x: x.find(\"BankC\"))\n",
    "print(dataset.groupby(\"MediaType\").count())\n",
    "print(dataset.groupby(\"MediaType\").mean())"
   ]
  }
 ],
 "metadata": {
  "kernelspec": {
   "display_name": "Python 3",
   "language": "python",
   "name": "python3"
  },
  "language_info": {
   "codemirror_mode": {
    "name": "ipython",
    "version": 3
   },
   "file_extension": ".py",
   "mimetype": "text/x-python",
   "name": "python",
   "nbconvert_exporter": "python",
   "pygments_lexer": "ipython3",
   "version": "3.4.3"
  }
 },
 "nbformat": 4,
 "nbformat_minor": 0
}
