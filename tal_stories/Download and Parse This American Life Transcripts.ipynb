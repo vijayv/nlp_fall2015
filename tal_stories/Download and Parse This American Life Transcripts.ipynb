{
 "cells": [
  {
   "cell_type": "code",
   "execution_count": 67,
   "metadata": {
    "collapsed": true
   },
   "outputs": [],
   "source": [
    "from bs4 import BeautifulSoup\n",
    "from urllib.request import urlopen\n",
    "import string"
   ]
  },
  {
   "cell_type": "code",
   "execution_count": 129,
   "metadata": {
    "collapsed": false
   },
   "outputs": [],
   "source": [
    "def tagify(key, value):\n",
    "    return \"<\" + key + \":\" + value + \">\"\n",
    "\n",
    "def process_story(soup):\n",
    "    processed_story = \"\"\n",
    "    attribute_error_counts = 0\n",
    "    \n",
    "    processed_story += tagify(\n",
    "        \"EPISODE NUMBER\",\n",
    "        soup.find(attrs={\"class\": \"radio-episode-num\"}).getText()[:-1],\n",
    "        )\n",
    "    processed_story += \" \"\n",
    "    \n",
    "    processed_story += tagify(\n",
    "        \"EPISODE NAME\",\n",
    "        soup.find(attrs={\"class\": \"radio\"}).find(\"a\").getText(),\n",
    "        )\n",
    "    processed_story += \" \"\n",
    "\n",
    "    story = soup.findAll(attrs={\"class\": \"act-inner\"})\n",
    "    for section in story:\n",
    "        for speaker in section.children:\n",
    "            try:\n",
    "                processed_story += tagify(\n",
    "                    dict(speaker.attrs)[\"class\"][0].upper(), \n",
    "                    speaker.find(\"h4\").getText().upper(),\n",
    "                )\n",
    "                processed_story += \" \"\n",
    "                for p in speaker.findAll(\"p\"):\n",
    "                    processed_story += p.getText()\n",
    "                    processed_story += \" \"\n",
    "            except AttributeError as e:\n",
    "                pass\n",
    "                attribute_error_counts += 1\n",
    "    \n",
    "    return processed_story"
   ]
  },
  {
   "cell_type": "code",
   "execution_count": 165,
   "metadata": {
    "collapsed": false
   },
   "outputs": [],
   "source": [
    "BASE_URL = 'http://www.thisamericanlife.org/radio-archives/episode/EPISODE_NUMBER/transcript'\n",
    "DOWNLOAD_EPISODES = [496, 469, 454, 450, 441, 414, 411, 312, 250]\n",
    "tal_text = \"\"\n",
    "for episode in DOWNLOAD_EPISODES:\n",
    "    page_url = BASE_URL.replace(\"EPISODE_NUMBER\", str(episode))\n",
    "    page = urlopen(page_url)\n",
    "    soup = BeautifulSoup(page)\n",
    "    tal_text += process_story(soup)\n",
    "len(tal_text.split()) * 20"
   ]
  },
  {
   "cell_type": "code",
   "execution_count": 166,
   "metadata": {
    "collapsed": false
   },
   "outputs": [],
   "source": [
    "with open(\"tal_text.txt\", \"w\") as tal:\n",
    "    tal.write(tal_text)"
   ]
  }
 ],
 "metadata": {
  "kernelspec": {
   "display_name": "Python 3",
   "language": "python",
   "name": "python3"
  },
  "language_info": {
   "codemirror_mode": {
    "name": "ipython",
    "version": 3
   },
   "file_extension": ".py",
   "mimetype": "text/x-python",
   "name": "python",
   "nbconvert_exporter": "python",
   "pygments_lexer": "ipython3",
   "version": "3.4.3"
  }
 },
 "nbformat": 4,
 "nbformat_minor": 0
}
