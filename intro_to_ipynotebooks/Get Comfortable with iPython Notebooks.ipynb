{
 "cells": [
  {
   "cell_type": "markdown",
   "metadata": {},
   "source": [
    "# Editing Markdown"
   ]
  },
  {
   "cell_type": "markdown",
   "metadata": {},
   "source": [
    "This is a line of \"markdown\" is which apparently is more humble than \"markup\".  It allows us to provide some text describing what we are doing with our code.   \n",
    "\n",
    "To edit this text, doubleclick into the box containing the text when viewing it in the notebook server.\n",
    "\n",
    "It doesn't look very nice when viewed using when you are in edit mode, but after you execute the cell containing the text it looks pretty.  To make all of the text on the page look nice, select the menu item Cell > Run All, or click on the sideways triangle, or type Control-return.\n",
    "  \n",
    "\n",
    "See https://help.github.com/articles/markdown-basics for details on the Markdown syntax.\n",
    "\n",
    "Be sure to do **all the tasks** listed below."
   ]
  },
  {
   "cell_type": "markdown",
   "metadata": {},
   "source": [
    "## Adding a Subheading"
   ]
  },
  {
   "cell_type": "markdown",
   "metadata": {},
   "source": [
    "**Task 1.** Your first task is to add a subheading above this sentence and call it \"Adding a Subheading\".  Look at the toolbar with the icons to see how to add a row.  "
   ]
  },
  {
   "cell_type": "markdown",
   "metadata": {},
   "source": [
    "## Adding a Second Subheading"
   ]
  },
  {
   "cell_type": "markdown",
   "metadata": {},
   "source": [
    "**Task 2.** Your second task is to add another subheading above this called \"Adding a Second Subheading\" at the same level as the one above."
   ]
  },
  {
   "cell_type": "markdown",
   "metadata": {},
   "source": [
    "**Task 3** There are at least three things to love about python:\n",
    "\n",
    "* interpreted\n",
    "* great at processing strings\n",
    "* <span style=\"color:red\">Snake Puns: Anaconda</span>\n",
    "\n",
    "In this example we are  showing you italics and bulleted lists in one fell swoop! We also used a bit of CSS code to add some color to the Markdown."
   ]
  },
  {
   "cell_type": "markdown",
   "metadata": {},
   "source": [
    "# Let's Write Some Code"
   ]
  },
  {
   "cell_type": "markdown",
   "metadata": {},
   "source": [
    "Now we are going to write some code.  First move your mouse into the cell below and either hit Control-enter to execute it or click on the \"Go\" triangle in the control panel above to execute it.  "
   ]
  },
  {
   "cell_type": "code",
   "execution_count": 1,
   "metadata": {
    "collapsed": false
   },
   "outputs": [
    {
     "data": {
      "text/plain": [
       "'The School of Information UC Berkeley’s newest school in its oldest building.'"
      ]
     },
     "execution_count": 1,
     "metadata": {},
     "output_type": "execute_result"
    }
   ],
   "source": [
    "sentence = \"The School of Information UC Berkeley’s newest school in its oldest building.\"\n",
    "sentence"
   ]
  },
  {
   "cell_type": "markdown",
   "metadata": {},
   "source": [
    "**Task 4** Write a line of code below to convert this to a list of words by breaking on white space (spaces); call this list 'sent'."
   ]
  },
  {
   "cell_type": "code",
   "execution_count": 4,
   "metadata": {
    "collapsed": false
   },
   "outputs": [
    {
     "data": {
      "text/plain": [
       "['The',\n",
       " 'School',\n",
       " 'of',\n",
       " 'Information',\n",
       " 'UC',\n",
       " 'Berkeley’s',\n",
       " 'newest',\n",
       " 'school',\n",
       " 'in',\n",
       " 'its',\n",
       " 'oldest',\n",
       " 'building.']"
      ]
     },
     "execution_count": 4,
     "metadata": {},
     "output_type": "execute_result"
    }
   ],
   "source": [
    "sent = sentence.split(\" \")\n",
    "sent"
   ]
  },
  {
   "cell_type": "markdown",
   "metadata": {},
   "source": [
    "**Task 5** Using python list splicing, create a new list called 'lasttwo' that contains just the last two items from this list and return the result."
   ]
  },
  {
   "cell_type": "code",
   "execution_count": 6,
   "metadata": {
    "collapsed": false
   },
   "outputs": [
    {
     "data": {
      "text/plain": [
       "['its', 'oldest', 'building.']"
      ]
     },
     "execution_count": 6,
     "metadata": {},
     "output_type": "execute_result"
    }
   ],
   "source": [
    "lastthree = sent[-3:]\n",
    "lastthree"
   ]
  },
  {
   "cell_type": "markdown",
   "metadata": {},
   "source": [
    "**Task 6** Now edit the line of code above and change it to splice out the last three words and assign to a variable called lastthree.  Be sure to re-execute it and return the result.  Note that you will not be creating a new input line below."
   ]
  }
 ],
 "metadata": {
  "kernelspec": {
   "display_name": "Python 3",
   "language": "python",
   "name": "python3"
  },
  "language_info": {
   "codemirror_mode": {
    "name": "ipython",
    "version": 3
   },
   "file_extension": ".py",
   "mimetype": "text/x-python",
   "name": "python",
   "nbconvert_exporter": "python",
   "pygments_lexer": "ipython3",
   "version": "3.4.3"
  }
 },
 "nbformat": 4,
 "nbformat_minor": 0
}
